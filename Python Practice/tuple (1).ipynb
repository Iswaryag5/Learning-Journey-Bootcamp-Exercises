{
 "cells": [
  {
   "cell_type": "code",
   "execution_count": 1,
   "id": "0152640b-ea9b-47cb-a1a3-618d6c1e411f",
   "metadata": {},
   "outputs": [
    {
     "name": "stdout",
     "output_type": "stream",
     "text": [
      "('apple', 'banana', 'cherry')\n",
      "1st index in mytuple: banana\n"
     ]
    }
   ],
   "source": [
    "#Write a code to display last item in mytuple.\n",
    "mytuple = (\"apple\", \"banana\", \"cherry\")\n",
    "print(mytuple)\n",
    "print(\"1st index in mytuple:\", mytuple[1])"
   ]
  },
  {
   "cell_type": "code",
   "execution_count": 2,
   "id": "6cc02fef-cc39-40da-8a00-ef7e8b2f4fa6",
   "metadata": {},
   "outputs": [
    {
     "name": "stdout",
     "output_type": "stream",
     "text": [
      "('apple', 'banana', 'cherry')\n",
      "1st index in mytuple: cherry\n",
      "Last index in my tuple: cherry\n",
      "last index in mytuple: cherry\n"
     ]
    }
   ],
   "source": [
    "mytuple = (\"apple\",\"banana\",\"cherry\")\n",
    "print (mytuple)\n",
    "print(\"1st index in mytuple:\", mytuple[2])\n",
    "print(\"Last index in my tuple:\", mytuple[-1])\n",
    "print(\"last index in mytuple:\", mytuple[2])"
   ]
  },
  {
   "cell_type": "code",
   "execution_count": 3,
   "id": "b1d1d331-ec5d-404d-93ef-14acb149c14c",
   "metadata": {},
   "outputs": [
    {
     "name": "stdout",
     "output_type": "stream",
     "text": [
      "(1, 2, 4, 8)\n",
      "(1.0, 0.5, 0.25, 0.125)\n"
     ]
    }
   ],
   "source": [
    "tuple_1 = (1, 2, 4, 8)\n",
    "tuple_2 = 1., .5, .25, .125\n",
    "print(tuple_1)\n",
    "print(tuple_2)"
   ]
  },
  {
   "cell_type": "code",
   "execution_count": 4,
   "id": "5092ce26-b6fc-4eb4-8dd0-05de38cb4b32",
   "metadata": {},
   "outputs": [
    {
     "name": "stdout",
     "output_type": "stream",
     "text": [
      "1\n",
      "1000\n",
      "(10, 100, 1000)\n",
      "(1, 10)\n",
      "1\n",
      "10\n",
      "100\n",
      "1000\n",
      "1\n",
      "10\n",
      "100\n",
      "1000\n"
     ]
    }
   ],
   "source": [
    "my_tuple = (1, 10, 100, 1000)\n",
    "\n",
    "print(my_tuple[0])\n",
    "print(my_tuple[-1])\n",
    "print(my_tuple[1:])\n",
    "print(my_tuple[:-2])\n",
    "\n",
    "for elem in my_tuple:\n",
    "    print(elem)\n",
    "\n",
    "for abc in my_tuple:\n",
    "    print(abc)"
   ]
  },
  {
   "cell_type": "code",
   "execution_count": 5,
   "id": "195b1608-903b-4087-9a26-6d2663010095",
   "metadata": {},
   "outputs": [
    {
     "name": "stdout",
     "output_type": "stream",
     "text": [
      "(1, 10, 100, 1, 10, 100, 1, 10, 100)\n",
      "9\n",
      "(1, 10, 100, 1000, 10000)\n",
      "True\n",
      "True\n"
     ]
    }
   ],
   "source": [
    "my_tuple = (1, 10, 100)\n",
    "\n",
    "t1 = my_tuple + (1000, 10000)\n",
    "\n",
    "t2 = my_tuple * 3\n",
    "\n",
    "print(t2)\n",
    "print(len(t2))\n",
    "print(t1)\n",
    "\n",
    "print(10 in my_tuple)\n",
    "print(-10 not in my_tuple)\n"
   ]
  },
  {
   "cell_type": "code",
   "execution_count": 6,
   "id": "feefde95-1ecc-48a1-a5ef-3eb7db0123bc",
   "metadata": {},
   "outputs": [
    {
     "name": "stdout",
     "output_type": "stream",
     "text": [
      "16\n"
     ]
    }
   ],
   "source": [
    "print(len(\"my name is Yusuf\"))"
   ]
  },
  {
   "cell_type": "code",
   "execution_count": 8,
   "id": "825b8e2a-cbbb-448b-9883-4b5608dda7f9",
   "metadata": {},
   "outputs": [
    {
     "name": "stdout",
     "output_type": "stream",
     "text": [
      "{'banana', 'apple', 'cherry'}\n",
      "{'banana', 'apple', 'cherry'}\n"
     ]
    }
   ],
   "source": [
    "mySet= {\"apple\", \"banana\", \"cherry\"}\n",
    "\n",
    "print(mySet)\n",
    "mySet2= {\"apple\", \"banana\", \"cherry\", \"apple\", \"banana\"}\n",
    "\n",
    "print(mySet2)\n"
   ]
  },
  {
   "cell_type": "code",
   "execution_count": 10,
   "id": "37827d19-4083-40f6-89f6-6bf21269ecd8",
   "metadata": {},
   "outputs": [
    {
     "name": "stdout",
     "output_type": "stream",
     "text": [
      "{'brand': 'Ford', 'model': 'Mustang', 'year': 1964}\n",
      "Ford\n",
      "1964\n",
      "None\n"
     ]
    }
   ],
   "source": [
    "mydict = {\"brand\": \"Ford\", #brand:key and ford:value\n",
    "          \"model\": \"Mustang\",\n",
    "          \"year\": 1964}\n",
    "print(mydict)\n",
    "print(mydict.get(\"brand\"))\n",
    "print(mydict.get(\"year\"))\n",
    "print(mydict.get(1))"
   ]
  },
  {
   "cell_type": "code",
   "execution_count": 12,
   "id": "9ac58221-4a6a-42d1-aacb-f1e58b0efbfa",
   "metadata": {},
   "outputs": [
    {
     "name": "stdout",
     "output_type": "stream",
     "text": [
      "{'cat': 'chat', 'dog': 'chicken', 'horse': 'cheval'}\n",
      "{'boss': 5551234567, 'Suzy': 22657854310}\n",
      "{}\n",
      "dict_keys(['cat', 'dog', 'horse'])\n",
      "dict_values(['chat', 'chicken', 'cheval'])\n"
     ]
    }
   ],
   "source": [
    "dictionary = {\"cat\": \"chat\", \"dog\": \"chicken\", \"horse\": \"cheval\"}\n",
    "\n",
    "phone_numbers = {'boss': 5551234567, 'Suzy': 22657854310}\n",
    "\n",
    "empty_dictionary = {}\n",
    "\n",
    "print(dictionary)\n",
    "print(phone_numbers)\n",
    "print(empty_dictionary)\n",
    "print(dictionary.keys())\n",
    "print(dictionary.values())"
   ]
  },
  {
   "cell_type": "code",
   "execution_count": null,
   "id": "cd309be6-3c16-4f07-9e94-6bdc1755e787",
   "metadata": {},
   "outputs": [],
   "source": []
  }
 ],
 "metadata": {
  "kernelspec": {
   "display_name": "Python 3 (ipykernel)",
   "language": "python",
   "name": "python3"
  },
  "language_info": {
   "codemirror_mode": {
    "name": "ipython",
    "version": 3
   },
   "file_extension": ".py",
   "mimetype": "text/x-python",
   "name": "python",
   "nbconvert_exporter": "python",
   "pygments_lexer": "ipython3",
   "version": "3.12.2"
  }
 },
 "nbformat": 4,
 "nbformat_minor": 5
}
