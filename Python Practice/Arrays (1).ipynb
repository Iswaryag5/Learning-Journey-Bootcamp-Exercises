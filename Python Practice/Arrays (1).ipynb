{
 "cells": [
  {
   "cell_type": "code",
   "execution_count": 1,
   "id": "6581c4ff-d2d9-4fb9-93cc-8cb26d8abaca",
   "metadata": {},
   "outputs": [
    {
     "name": "stdout",
     "output_type": "stream",
     "text": [
      "['apple', 'banana', 'cherry']\n",
      "['h', 'a', 'p', 'p', 'y']\n"
     ]
    }
   ],
   "source": [
    "mylist = [\"apple\", \"banana\", \"cherry\"]\n",
    "\n",
    "word = \"happy\"\n",
    "mylist2 = list(word)\n",
    "\n",
    "\n",
    "print(mylist)\n",
    "print(mylist2)"
   ]
  },
  {
   "cell_type": "code",
   "execution_count": 2,
   "id": "a5711e55-5e08-4068-9092-d75e639761d6",
   "metadata": {},
   "outputs": [
    {
     "name": "stdout",
     "output_type": "stream",
     "text": [
      "['Mr.X', 22, 'UK', '12/05/2001', 1.65]\n"
     ]
    }
   ],
   "source": [
    "customer_info = [\"Mr.X\", 22, \"UK\", \"12/05/2001\", 1.65]\n",
    "print(customer_info)"
   ]
  },
  {
   "cell_type": "code",
   "execution_count": 9,
   "id": "0e69690c-395a-4e88-b137-69109e7b323e",
   "metadata": {},
   "outputs": [
    {
     "name": "stdout",
     "output_type": "stream",
     "text": [
      "mylist1[1]:  20\n",
      "mylist2[1:5]:  [2, 3, 4, 5]\n"
     ]
    }
   ],
   "source": [
    "mylist1 = [\"a\", \"b\", 10, 20];\n",
    "\n",
    "mylist2 = [1, 2, 3, 4, 5, 6, 7 ];\n",
    "\n",
    "print(\"mylist1[1]: \", mylist1[3])\n",
    "\n",
    "print (\"mylist2[1:5]: \", mylist2[1:5])\n"
   ]
  },
  {
   "cell_type": "code",
   "execution_count": 14,
   "id": "87c0e0a1-7baf-4422-a1ac-bd15d6d4f380",
   "metadata": {},
   "outputs": [
    {
     "name": "stdout",
     "output_type": "stream",
     "text": [
      "[4, 5]\n"
     ]
    }
   ],
   "source": [
    "print(mylist2[-4: -2])"
   ]
  },
  {
   "cell_type": "code",
   "execution_count": 15,
   "id": "979903f7-dd0f-482d-87fb-178e95f57e1e",
   "metadata": {},
   "outputs": [
    {
     "name": "stdout",
     "output_type": "stream",
     "text": [
      "4 6\n"
     ]
    }
   ],
   "source": [
    "print(mylist2[-4], mylist2[-2])"
   ]
  },
  {
   "cell_type": "code",
   "execution_count": 17,
   "id": "82cd7ba3-52cf-45f6-b8d3-fb71b76c168d",
   "metadata": {},
   "outputs": [
    {
     "name": "stdout",
     "output_type": "stream",
     "text": [
      "[10, 20, 30, 40, 50, 60]\n"
     ]
    }
   ],
   "source": [
    "nums = [10, 20, 30, 40, 50, 60, 70, 80, 90]\n",
    "\n",
    "print(nums[0:6])"
   ]
  },
  {
   "cell_type": "code",
   "execution_count": 27,
   "id": "5c859e4c-c7a4-439a-9cbb-18e1036c7570",
   "metadata": {},
   "outputs": [
    {
     "name": "stdout",
     "output_type": "stream",
     "text": [
      "[20, 30, 40] [30, 40, 50, 60, 70]\n"
     ]
    }
   ],
   "source": [
    "nums = [10, 20, 30, 40, 50, 60, 70, 80, 90]\n",
    "some_nums1 = nums[2:7]\n",
    "some_nums2 = nums[1:4]\n",
    "print(some_nums2, some_nums1, end=\"\\n\")"
   ]
  },
  {
   "cell_type": "code",
   "execution_count": 33,
   "id": "49213b8d-4563-4161-8459-57619b6c173f",
   "metadata": {},
   "outputs": [
    {
     "name": "stdout",
     "output_type": "stream",
     "text": [
      "['apple', 'banana', 'cherry']\n",
      "['apple', 'blackcurrant', 'cherry']\n",
      "['apple', 'blackcurrant', 'watermelon']\n",
      "['apple', 'blackcurrant', 'watermelon', 'watermelon']\n",
      "['apple', 'blackcurrant', 'watermelon', 'watermelon', 'kiwi']\n",
      "['kiwi', 'watermelon', 'watermelon', 'blackcurrant', 'apple']\n"
     ]
    }
   ],
   "source": [
    "thislist = [\"apple\", \"banana\", \"cherry\"]\n",
    "\n",
    "print(thislist)\n",
    "\n",
    "thislist[1] = \"blackcurrant\"\n",
    "\n",
    "print(thislist)\n",
    "thislist[2]=\"watermelon\"\n",
    "\n",
    "print(thislist)\n",
    "thislist.insert(2, \"watermelon\")\n",
    "print(thislist)\n",
    "thislist.insert(5,\"kiwi\")\n",
    "print(thislist)\n",
    "thislist.reverse()\n",
    "print(thislist)"
   ]
  },
  {
   "cell_type": "code",
   "execution_count": 34,
   "id": "ed8a9579-feac-4262-b96f-e749b82ceb59",
   "metadata": {},
   "outputs": [
    {
     "name": "stdout",
     "output_type": "stream",
     "text": [
      "['kiwi', 'watermelon', 'blackcurrant', 'apple']\n"
     ]
    }
   ],
   "source": [
    "thislist.pop(1)\n",
    "\n",
    "print(thislist)"
   ]
  },
  {
   "cell_type": "code",
   "execution_count": 36,
   "id": "dcab00ce-c16a-41d1-ad00-56cfa6100c08",
   "metadata": {},
   "outputs": [
    {
     "name": "stdout",
     "output_type": "stream",
     "text": [
      "List before adding\n",
      "['apple', 'banana', 'cherry']\n"
     ]
    }
   ],
   "source": [
    "thislist = [\"apple\", \"banana\", \"cherry\"]\n",
    "print(\"List before adding\")\n",
    "print(thislist)\n"
   ]
  },
  {
   "cell_type": "code",
   "execution_count": 41,
   "id": "547f5017-2e5f-42d9-a090-aa4f5a2020f7",
   "metadata": {},
   "outputs": [
    {
     "name": "stdout",
     "output_type": "stream",
     "text": [
      "List before adding\n",
      "['apple', 'banana', 'cherry']\n",
      "List after adding 5 more items:\n",
      "['apple', 'banana', 'cherry', ['orange', 'grape', 'kiwi', 'melon', 'pear']]\n",
      "List after removing element at index 1:\n",
      "['apple', 'cherry', ['orange', 'grape', 'kiwi', 'melon', 'pear']]\n"
     ]
    }
   ],
   "source": [
    "thislist = [\"apple\", \"banana\", \"cherry\"]\n",
    "print(\"List before adding\")\n",
    "print(thislist)\n",
    "thislist.append([\"orange\", \"grape\", \"kiwi\", \"melon\", \"pear\"])\n",
    "print(\"List after adding 5 more items:\")\n",
    "print(thislist)\n",
    "thislist.pop(1)\n",
    "print(\"List after removing element at index 1:\")\n",
    "print(thislist)"
   ]
  },
  {
   "cell_type": "code",
   "execution_count": 48,
   "id": "c36aaae4-294e-48f1-a926-0451023676a1",
   "metadata": {},
   "outputs": [
    {
     "name": "stdout",
     "output_type": "stream",
     "text": [
      "['apple', 'Pears', 'banana', 'cherry']\n",
      "['apple', 'Pears', 'banana', 'cherry', 'mango', 'orange', 'plum', 'pineapple', 'peach']\n",
      "['apple', 'Pears', 'orange', 'plum', 'pineapple', 'peach']\n"
     ]
    }
   ],
   "source": [
    "thislist = [\"apple\", \"banana\", \"cherry\"]\n",
    "thislist.insert(1, \"Pears\")\n",
    "print(thislist)\n",
    "newlist = [\"mango\",\"orange\",\"plum\",\"pineapple\", \"peach\"]\n",
    "\n",
    "thislist.extend(newlist)\n",
    "\n",
    "print(thislist)\n",
    "\n",
    "del thislist[2:5]\n",
    "\n",
    "print(thislist)"
   ]
  },
  {
   "cell_type": "code",
   "execution_count": 52,
   "id": "d0388f6c-6059-462d-a3af-a9cd07cfbb45",
   "metadata": {},
   "outputs": [
    {
     "name": "stdout",
     "output_type": "stream",
     "text": [
      "Original list: ['apple', 'banana', 'cherry']\n",
      "After removing index 1: ['apple', 'cherry']\n",
      "After adding 5 items: ['apple', 'cherry', ['orange', 'grape', 'mango', 'pineapple', 'kiwi']]\n",
      "After removing items from index 2 to 4: ['apple', 'cherry']\n",
      "['apple', 'cherry']\n"
     ]
    }
   ],
   "source": [
    "thislist = [\"apple\", \"banana\", \"cherry\"]\n",
    "print(\"Original list:\", thislist)\n",
    "\n",
    "thislist.pop(1)\n",
    "\n",
    "print(\"After removing index 1:\", thislist)\n",
    "\n",
    "#thislist.pop(2:5) this will give error. pop method gets only 1 index value\n",
    "\n",
    "thislist.append([\"orange\", \"grape\", \"mango\", \"pineapple\", \"kiwi\"])\n",
    "print(\"After adding 5 items:\", thislist)\n",
    "thislist = thislist[:2] + thislist[5:]\n",
    "print(\"After removing items from index 2 to 4:\", thislist)\n",
    "\n",
    "print(thislist)"
   ]
  },
  {
   "cell_type": "code",
   "execution_count": null,
   "id": "b4f61576-48fa-4738-b412-75a8ef5beebc",
   "metadata": {},
   "outputs": [],
   "source": []
  }
 ],
 "metadata": {
  "kernelspec": {
   "display_name": "Python 3 (ipykernel)",
   "language": "python",
   "name": "python3"
  },
  "language_info": {
   "codemirror_mode": {
    "name": "ipython",
    "version": 3
   },
   "file_extension": ".py",
   "mimetype": "text/x-python",
   "name": "python",
   "nbconvert_exporter": "python",
   "pygments_lexer": "ipython3",
   "version": "3.12.2"
  }
 },
 "nbformat": 4,
 "nbformat_minor": 5
}
