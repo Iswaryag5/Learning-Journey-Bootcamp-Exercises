{
 "cells": [
  {
   "cell_type": "code",
   "execution_count": 2,
   "id": "93296024-bd8c-46b3-bf60-80103cfd4862",
   "metadata": {},
   "outputs": [
    {
     "name": "stdout",
     "output_type": "stream",
     "text": [
      "[1] \"Hello World!\"\n"
     ]
    }
   ],
   "source": [
    "my_function <- function() {\n",
    "  print(\"Hello World!\")\n",
    "}\n",
    "\n",
    "my_function() # call the function named my_function"
   ]
  },
  {
   "cell_type": "code",
   "execution_count": 3,
   "id": "099a27e0-6691-4d45-a196-c9dac6afc9a4",
   "metadata": {},
   "outputs": [
    {
     "data": {
      "text/html": [
       "'Peter Griffin'"
      ],
      "text/latex": [
       "'Peter Griffin'"
      ],
      "text/markdown": [
       "'Peter Griffin'"
      ],
      "text/plain": [
       "[1] \"Peter Griffin\""
      ]
     },
     "metadata": {},
     "output_type": "display_data"
    },
    {
     "data": {
      "text/html": [
       "'Lois Griffin'"
      ],
      "text/latex": [
       "'Lois Griffin'"
      ],
      "text/markdown": [
       "'Lois Griffin'"
      ],
      "text/plain": [
       "[1] \"Lois Griffin\""
      ]
     },
     "metadata": {},
     "output_type": "display_data"
    },
    {
     "data": {
      "text/html": [
       "'Stewie Griffin'"
      ],
      "text/latex": [
       "'Stewie Griffin'"
      ],
      "text/markdown": [
       "'Stewie Griffin'"
      ],
      "text/plain": [
       "[1] \"Stewie Griffin\""
      ]
     },
     "metadata": {},
     "output_type": "display_data"
    }
   ],
   "source": [
    "# Define a function named \"my_function\" that takes one argument (fname)\n",
    "my_function <- function(fname) {\n",
    "  # Inside the function:\n",
    "  # - The function body starts here.\n",
    "  # - The purpose of this function is to concatenate the input 'fname' with the string \"Griffin\".\n",
    "  # - The result is returned by the function.\n",
    "\n",
    "  # Concatenate 'fname' with \"Griffin\" using the 'paste' function\n",
    "  result <- paste(fname, \"Griffin\")\n",
    "\n",
    "  # Return the concatenated result\n",
    "  return(result)\n",
    "\n",
    "  # End of the function body.\n",
    "}\n",
    "\n",
    "# Call the function with different names\n",
    "my_function(\"Peter\")  # Returns \"Peter Griffin\"\n",
    "my_function(\"Lois\")   # Returns \"Lois Griffin\"\n",
    "my_function(\"Stewie\") # Returns \"Stewie Griffin\""
   ]
  },
  {
   "cell_type": "code",
   "execution_count": 4,
   "id": "279f7aa4-68fb-4508-bc4d-8b4e7e8689dc",
   "metadata": {},
   "outputs": [
    {
     "data": {
      "text/html": [
       "'Peter Griffin'"
      ],
      "text/latex": [
       "'Peter Griffin'"
      ],
      "text/markdown": [
       "'Peter Griffin'"
      ],
      "text/plain": [
       "[1] \"Peter Griffin\""
      ]
     },
     "metadata": {},
     "output_type": "display_data"
    },
    {
     "data": {
      "text/html": [
       "'Lois Griffin'"
      ],
      "text/latex": [
       "'Lois Griffin'"
      ],
      "text/markdown": [
       "'Lois Griffin'"
      ],
      "text/plain": [
       "[1] \"Lois Griffin\""
      ]
     },
     "metadata": {},
     "output_type": "display_data"
    },
    {
     "data": {
      "text/html": [
       "'Stewie Griffin'"
      ],
      "text/latex": [
       "'Stewie Griffin'"
      ],
      "text/markdown": [
       "'Stewie Griffin'"
      ],
      "text/plain": [
       "[1] \"Stewie Griffin\""
      ]
     },
     "metadata": {},
     "output_type": "display_data"
    }
   ],
   "source": [
    "# Define a function named \"my_function\" that takes one argument (fname)\n",
    "my_function <- function(fname) {\n",
    "  # Inside the function:\n",
    "  # - The function body starts here.\n",
    "  # - The purpose of this function is to concatenate the input 'fname' with the string \"Griffin\".\n",
    "  # - The result is returned by the function.\n",
    "\n",
    "  # Concatenate 'fname' with \"Griffin\" using the 'paste' function\n",
    "  result <- paste(fname, \"Griffin\")\n",
    "\n",
    "  # Return the concatenated result\n",
    "  return(result)\n",
    "\n",
    "  # End of the function body.\n",
    "}\n",
    "\n",
    "# Call the function with different names\n",
    "my_function(\"Peter\")  # Returns \"Peter Griffin\"\n",
    "my_function(\"Lois\")   # Returns \"Lois Griffin\"\n",
    "my_function(\"Stewie\") # Returns \"Stewie Griffin\""
   ]
  },
  {
   "cell_type": "code",
   "execution_count": 5,
   "id": "5492d7d5-db09-49f7-8c5d-36da066f6a6e",
   "metadata": {},
   "outputs": [
    {
     "data": {
      "text/html": [
       "'Peter Griffin'"
      ],
      "text/latex": [
       "'Peter Griffin'"
      ],
      "text/markdown": [
       "'Peter Griffin'"
      ],
      "text/plain": [
       "[1] \"Peter Griffin\""
      ]
     },
     "metadata": {},
     "output_type": "display_data"
    },
    {
     "data": {
      "text/html": [
       "'Lois Griffin'"
      ],
      "text/latex": [
       "'Lois Griffin'"
      ],
      "text/markdown": [
       "'Lois Griffin'"
      ],
      "text/plain": [
       "[1] \"Lois Griffin\""
      ]
     },
     "metadata": {},
     "output_type": "display_data"
    },
    {
     "data": {
      "text/html": [
       "'Stewie Griffin'"
      ],
      "text/latex": [
       "'Stewie Griffin'"
      ],
      "text/markdown": [
       "'Stewie Griffin'"
      ],
      "text/plain": [
       "[1] \"Stewie Griffin\""
      ]
     },
     "metadata": {},
     "output_type": "display_data"
    }
   ],
   "source": [
    "my_function <- function(fname) {\n",
    "  paste(fname, \"Griffin\")\n",
    "}\n",
    "\n",
    "my_function(\"Peter\")\n",
    "my_function(\"Lois\")\n",
    "my_function(\"Stewie\")"
   ]
  },
  {
   "cell_type": "code",
   "execution_count": 6,
   "id": "895cec4e-cb4e-481b-a28a-86142b06ed8a",
   "metadata": {},
   "outputs": [
    {
     "data": {
      "text/html": [
       "'Peter Griffin'"
      ],
      "text/latex": [
       "'Peter Griffin'"
      ],
      "text/markdown": [
       "'Peter Griffin'"
      ],
      "text/plain": [
       "[1] \"Peter Griffin\""
      ]
     },
     "metadata": {},
     "output_type": "display_data"
    }
   ],
   "source": [
    "# Define a function named \"my_function\" that takes two arguments (fname and lname)\n",
    "my_function <- function(fname, lname) {\n",
    "  # Inside the function:\n",
    "  # - The function body starts here.\n",
    "  # - The purpose of this function is to concatenate the input 'fname' with 'lname'.\n",
    "  # - The result is returned by the function.\n",
    "\n",
    "  # Concatenate 'fname' with 'lname' using the 'paste' function\n",
    "  result <- paste(fname, lname)\n",
    "\n",
    "  # Return the concatenated result\n",
    "  return(result)\n",
    "\n",
    "  # End of the function body.\n",
    "}\n",
    "\n",
    "# Call the function with specific first name (\"Peter\") and last name (\"Griffin\")\n",
    "# The result will be the concatenation of the two names.\n",
    "my_function(\"Peter\", \"Griffin\") # Returns \"Peter Griffin\""
   ]
  },
  {
   "cell_type": "code",
   "execution_count": 8,
   "id": "2ec2c6ea-57a8-4643-9648-b2cb19a69214",
   "metadata": {},
   "outputs": [
    {
     "data": {
      "text/html": [
       "'Peter '"
      ],
      "text/latex": [
       "'Peter '"
      ],
      "text/markdown": [
       "'Peter '"
      ],
      "text/plain": [
       "[1] \"Peter \""
      ]
     },
     "metadata": {},
     "output_type": "display_data"
    }
   ],
   "source": [
    "my_function <- function(fname, lname = \"\") {\n",
    "  paste(fname, lname)\n",
    "}\n",
    "\n",
    "my_function(\"Peter\")\n"
   ]
  },
  {
   "cell_type": "code",
   "execution_count": 9,
   "id": "3637074a-ceac-46af-99aa-73c78064d610",
   "metadata": {},
   "outputs": [
    {
     "data": {
      "text/html": [
       "'I am from Sweden'"
      ],
      "text/latex": [
       "'I am from Sweden'"
      ],
      "text/markdown": [
       "'I am from Sweden'"
      ],
      "text/plain": [
       "[1] \"I am from Sweden\""
      ]
     },
     "metadata": {},
     "output_type": "display_data"
    },
    {
     "data": {
      "text/html": [
       "'I am from India'"
      ],
      "text/latex": [
       "'I am from India'"
      ],
      "text/markdown": [
       "'I am from India'"
      ],
      "text/plain": [
       "[1] \"I am from India\""
      ]
     },
     "metadata": {},
     "output_type": "display_data"
    },
    {
     "data": {
      "text/html": [
       "'I am from Norway'"
      ],
      "text/latex": [
       "'I am from Norway'"
      ],
      "text/markdown": [
       "'I am from Norway'"
      ],
      "text/plain": [
       "[1] \"I am from Norway\""
      ]
     },
     "metadata": {},
     "output_type": "display_data"
    },
    {
     "data": {
      "text/html": [
       "'I am from USA'"
      ],
      "text/latex": [
       "'I am from USA'"
      ],
      "text/markdown": [
       "'I am from USA'"
      ],
      "text/plain": [
       "[1] \"I am from USA\""
      ]
     },
     "metadata": {},
     "output_type": "display_data"
    }
   ],
   "source": [
    "# Define a function named \"my_function\" with an optional argument 'country' (default value: \"Norway\")\n",
    "my_function <- function(country = \"Norway\") {\n",
    "  # Inside the function:\n",
    "  # - The function body starts here.\n",
    "  # - The purpose of this function is to create a sentence stating the country.\n",
    "  # - If 'country' is not provided, it defaults to \"Norway\".\n",
    "  # - The result is returned by the function.\n",
    "\n",
    "  # Create a sentence: \"I am from <country>\"\n",
    "  result <- paste(\"I am from\", country)\n",
    "\n",
    "  # Return the sentence\n",
    "  return(result)\n",
    "\n",
    "  # End of the function body.\n",
    "}\n",
    "\n",
    "# Call the function with specific country names\n",
    "my_function(\"Sweden\")  # Returns \"I am from Sweden\"\n",
    "my_function(\"India\")   # Returns \"I am from India\"\n",
    "my_function()          # Returns \"I am from Norway\" (default value)\n",
    "my_function(\"USA\")     # Returns \"I am from USA\""
   ]
  },
  {
   "cell_type": "code",
   "execution_count": 10,
   "id": "39229795-a1d5-4639-a0e3-b6cc19a1e287",
   "metadata": {},
   "outputs": [
    {
     "data": {
      "text/html": [
       "'I am from Sweden'"
      ],
      "text/latex": [
       "'I am from Sweden'"
      ],
      "text/markdown": [
       "'I am from Sweden'"
      ],
      "text/plain": [
       "[1] \"I am from Sweden\""
      ]
     },
     "metadata": {},
     "output_type": "display_data"
    },
    {
     "data": {
      "text/html": [
       "'I am from India'"
      ],
      "text/latex": [
       "'I am from India'"
      ],
      "text/markdown": [
       "'I am from India'"
      ],
      "text/plain": [
       "[1] \"I am from India\""
      ]
     },
     "metadata": {},
     "output_type": "display_data"
    },
    {
     "data": {
      "text/html": [
       "'I am from Norway'"
      ],
      "text/latex": [
       "'I am from Norway'"
      ],
      "text/markdown": [
       "'I am from Norway'"
      ],
      "text/plain": [
       "[1] \"I am from Norway\""
      ]
     },
     "metadata": {},
     "output_type": "display_data"
    },
    {
     "data": {
      "text/html": [
       "'I am from USA'"
      ],
      "text/latex": [
       "'I am from USA'"
      ],
      "text/markdown": [
       "'I am from USA'"
      ],
      "text/plain": [
       "[1] \"I am from USA\""
      ]
     },
     "metadata": {},
     "output_type": "display_data"
    }
   ],
   "source": [
    "# Define a function named \"my_function\" with an optional argument 'country' (default value: \"Norway\")\n",
    "my_function <- function(country = \"Norway\") {\n",
    "  # Inside the function:\n",
    "  # - The function body starts here.\n",
    "  # - The purpose of this function is to create a sentence stating the country.\n",
    "  # - If 'country' is not provided, it defaults to \"Norway\".\n",
    "  # - The result is returned by the function.\n",
    "\n",
    "  # Create a sentence: \"I am from <country>\"\n",
    "  result <- paste(\"I am from\", country)\n",
    "\n",
    "  # Return the sentence\n",
    "  return(result)\n",
    "\n",
    "  # End of the function body.\n",
    "}\n",
    "\n",
    "# Call the function with specific country names\n",
    "my_function(\"Sweden\")  # Returns \"I am from Sweden\"\n",
    "my_function(\"India\")   # Returns \"I am from India\"\n",
    "my_function()          # Returns \"I am from Norway\" (default value)\n",
    "my_function(\"USA\")     # Returns \"I am from USA\"\n"
   ]
  },
  {
   "cell_type": "code",
   "execution_count": 11,
   "id": "bf978dfc-0775-42b0-9d85-fa4cf5b5cdfc",
   "metadata": {},
   "outputs": [
    {
     "name": "stdout",
     "output_type": "stream",
     "text": [
      "[1] 15\n",
      "[1] 25\n",
      "[1] 45\n"
     ]
    }
   ],
   "source": [
    "# Define a function named \"my_function\" that takes an argument 'x'\n",
    "my_function <- function(x) {\n",
    "  # Inside the function:\n",
    "  # - The function body starts here.\n",
    "  # - The purpose of this function is to multiply the input 'x' by 5.\n",
    "  # - The result is returned by the function.\n",
    "\n",
    "  # Multiply 'x' by 5\n",
    "  result <- 5 * x\n",
    "\n",
    "  # Return the result\n",
    "  return(result)\n",
    "\n",
    "  # End of the function body.\n",
    "}\n",
    "\n",
    "# Call the function with specific values\n",
    "print(my_function(3)) # Prints 15\n",
    "print(my_function(5)) # Prints 25\n",
    "print(my_function(9)) # Prints 45"
   ]
  },
  {
   "cell_type": "code",
   "execution_count": 12,
   "id": "bc1bb148-6840-4078-8d42-74451b2d829b",
   "metadata": {},
   "outputs": [
    {
     "name": "stdout",
     "output_type": "stream",
     "text": [
      "[1] 15\n",
      "[1] 25\n",
      "[1] 45\n"
     ]
    }
   ],
   "source": [
    "# Define a function named \"my_function\" that takes an argument 'x'\n",
    "my_function <- function(x) {\n",
    "  # Inside the function:\n",
    "  # - The function body starts here.\n",
    "  # - The purpose of this function is to multiply the input 'x' by 5.\n",
    "  # - The result is returned by the function.\n",
    "\n",
    "  # Multiply 'x' by 5\n",
    "  result <- 5 * x\n",
    "\n",
    "  # Return the result\n",
    "  return(result)\n",
    "\n",
    "  # End of the function body.\n",
    "}\n",
    "\n",
    "# Call the function with specific values\n",
    "print(my_function(3)) # Prints 15\n",
    "print(my_function(5)) # Prints 25\n",
    "print(my_function(9)) # Prints 45"
   ]
  },
  {
   "cell_type": "code",
   "execution_count": null,
   "id": "d984d47b-c5d1-43a8-af99-a7b2ed04a862",
   "metadata": {},
   "outputs": [],
   "source": []
  }
 ],
 "metadata": {
  "kernelspec": {
   "display_name": "R",
   "language": "R",
   "name": "ir"
  },
  "language_info": {
   "codemirror_mode": "r",
   "file_extension": ".r",
   "mimetype": "text/x-r-source",
   "name": "R",
   "pygments_lexer": "r",
   "version": "4.4.0"
  }
 },
 "nbformat": 4,
 "nbformat_minor": 5
}
