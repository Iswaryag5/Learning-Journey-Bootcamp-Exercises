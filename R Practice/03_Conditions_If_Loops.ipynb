{
 "cells": [
  {
   "cell_type": "code",
   "execution_count": 2,
   "id": "9db5b555-477d-460d-931b-63eb286d1674",
   "metadata": {},
   "outputs": [
    {
     "name": "stdout",
     "output_type": "stream",
     "text": [
      "[1] \"Above ten\"\n",
      "[1] \"and also above 20!\"\n"
     ]
    }
   ],
   "source": [
    "x <- 41\n",
    "\n",
    "if (x > 10) {\n",
    "  print(\"Above ten\")\n",
    "  if (x > 20) {\n",
    "    print(\"and also above 20!\")\n",
    "  } else {\n",
    "    print(\"but not above 20.\")\n",
    "  }\n",
    "} else {\n",
    "  print(\"below 10.\")\n",
    "}"
   ]
  },
  {
   "cell_type": "code",
   "execution_count": 3,
   "id": "b9fe7f36-ecf8-4beb-8f22-730af66dd6a2",
   "metadata": {},
   "outputs": [
    {
     "name": "stdout",
     "output_type": "stream",
     "text": [
      "[1] \"Both conditions are true\"\n"
     ]
    }
   ],
   "source": [
    "a <- 200\n",
    "b <- 33\n",
    "c <- 500\n",
    "\n",
    "if (a > b & c > a) {\n",
    "  print(\"Both conditions are true\")\n",
    "}"
   ]
  },
  {
   "cell_type": "code",
   "execution_count": 4,
   "id": "2600d24e-2738-44ca-b6e4-99e0f1d29cb9",
   "metadata": {},
   "outputs": [
    {
     "name": "stdout",
     "output_type": "stream",
     "text": [
      "[1] \"At least one of the conditions is true\"\n"
     ]
    }
   ],
   "source": [
    "a <- 200\n",
    "b <- 33\n",
    "c <- 500\n",
    "\n",
    "if (a > b | a > c) {\n",
    "  print(\"At least one of the conditions is true\")\n",
    "}"
   ]
  },
  {
   "cell_type": "code",
   "execution_count": 5,
   "id": "dc4b9b1b-ecfe-4146-8edd-54c192bdbda1",
   "metadata": {},
   "outputs": [
    {
     "name": "stdout",
     "output_type": "stream",
     "text": [
      "[1] \"At least one of the conditions is true\"\n"
     ]
    }
   ],
   "source": [
    "a <- 200\n",
    "b <- 33\n",
    "c <- 500\n",
    "\n",
    "if (a > b | a > c) {\n",
    "  print(\"At least one of the conditions is true\")\n",
    "}"
   ]
  },
  {
   "cell_type": "code",
   "execution_count": 6,
   "id": "7fd5d229-3c4a-4b4e-a1f2-4cd178f02d22",
   "metadata": {},
   "outputs": [
    {
     "name": "stdout",
     "output_type": "stream",
     "text": [
      "[1] \"You are an adult!\"\n"
     ]
    }
   ],
   "source": [
    "age <- 25  # Replace with your actual age\n",
    "\n",
    "if (age >= 18) {\n",
    "  print(\"You are an adult!\")\n",
    "} else {\n",
    "  print(\"You are not an adult yet.\")\n",
    "}"
   ]
  },
  {
   "cell_type": "code",
   "execution_count": 7,
   "id": "68b768b0-e33e-430f-8417-ac40097f5d1b",
   "metadata": {},
   "outputs": [
    {
     "name": "stdout",
     "output_type": "stream",
     "text": [
      "[1] \"Your grade is B.\"\n"
     ]
    }
   ],
   "source": [
    "grade <- 87\n",
    "\n",
    "if (grade >= 90) {\n",
    "  print(\"Your grade is A.\")\n",
    "} else if (grade >= 80) {\n",
    "  print(\"Your grade is B.\")\n",
    "} else if (grade >= 70) {\n",
    "  print(\"Your grade is C.\")\n",
    "} else if (grade >= 60) {\n",
    "  print(\"Your grade is D.\")\n",
    "} else {\n",
    "  print(\"Your grade is F.\")\n",
    "}"
   ]
  },
  {
   "cell_type": "code",
   "execution_count": 8,
   "id": "787b2c04-dfbb-4033-89df-8bd62673898e",
   "metadata": {},
   "outputs": [
    {
     "name": "stdout",
     "output_type": "stream",
     "text": [
      "[1] \"You are eligible for a 15% discount!\"\n"
     ]
    }
   ],
   "source": [
    "age <- 15\n",
    "day <- \"Saturday\"  # Replace with the actual day\n",
    "\n",
    "if (age >= 65) {\n",
    "  discount <- 20\n",
    "} else if (age >= 13 & age <= 18) {\n",
    "  if (day %in% c(\"Friday\", \"Saturday\", \"Sunday\")) {\n",
    "    discount <- 15\n",
    "  } else {\n",
    "    discount <- 0\n",
    "  }\n",
    "} else if (age >= 3 & age <= 12) {\n",
    "  discount <- 10\n",
    "} else {\n",
    "  discount <- 0\n",
    "}\n",
    "\n",
    "if (discount > 0) {\n",
    "  print(paste0(\"You are eligible for a \", discount, \"% discount!\"))\n",
    "} else {\n",
    "  print(\"No discount applies.\")\n",
    "}"
   ]
  },
  {
   "cell_type": "code",
   "execution_count": 10,
   "id": "17dd8e3f-b6d0-46f7-91d2-9e385a31a879",
   "metadata": {},
   "outputs": [
    {
     "name": "stdout",
     "output_type": "stream",
     "text": [
      "[1] \"No Yahtzee\"\n",
      "[1] \"No Yahtzee\"\n",
      "[1] \"No Yahtzee\"\n",
      "[1] \"No Yahtzee\"\n",
      "[1] \"No Yahtzee\"\n",
      "[1] \"Yahtzee!\"\n"
     ]
    }
   ],
   "source": [
    "dice <- 1\n",
    "while (dice <= 6) {\n",
    "  if (dice < 6) {\n",
    "    print(\"No Yahtzee\")\n",
    "  } else {\n",
    "    print(\"Yahtzee!\")\n",
    "  }\n",
    "  dice <- dice + 1\n",
    "}"
   ]
  },
  {
   "cell_type": "code",
   "execution_count": 13,
   "id": "d94c3df0-d113-4d5c-9775-c8d9b45f32e3",
   "metadata": {},
   "outputs": [
    {
     "name": "stdin",
     "output_type": "stream",
     "text": [
      "Guess a number between 1 and 10:  11\n",
      "Guess a number between 1 and 10:  4\n"
     ]
    },
    {
     "name": "stdout",
     "output_type": "stream",
     "text": [
      "Invalid guess. Please enter a number between 1 and 10.\n",
      "Congratulations! You guessed the number in  0  attempts.\n"
     ]
    }
   ],
   "source": [
    "# Define secret_number\n",
    "secret_number <- sample(1:10, 1)\n",
    "\n",
    "# Initialize guess and attempts\n",
    "guess <- NA\n",
    "attempts <- 0\n",
    "\n",
    "# Start guessing loop\n",
    "while (is.na(guess) || guess != secret_number) {\n",
    "  # Prompt for guess\n",
    "  guess <- as.numeric(readline(\"Guess a number between 1 and 10: \"))\n",
    "\n",
    "  # Validate guess\n",
    "  if (is.na(guess) || guess < 1 || guess > 10) {\n",
    "    cat(\"Invalid guess. Please enter a number between 1 and 10.\\n\")\n",
    "    next  # Skip to the next iteration\n",
    "  }\n",
    "\n",
    "  # Compare guess\n",
    "  if (!is.na(guess) && guess == secret_number) {\n",
    "    cat(\"Congratulations! You guessed the number in \", attempts, \" attempts.\\n\")\n",
    "    break  # Exit the loop\n",
    "  } else if (!is.na(guess) && guess < secret_number) {\n",
    "    cat(\"Your guess is too low. Try again.\\n\")\n",
    "  } else if (!is.na(guess)) {\n",
    "    cat(\"Your guess is too high. Try again.\\n\")\n",
    "  }\n",
    "\n",
    "  attempts <- attempts + 1\n",
    "}\n",
    "\n",
    "# Outside the loop (if guess wasn't correct)\n",
    "if (is.na(guess) || guess != secret_number) {\n",
    "  cat(\"You couldn't guess the number. It was \", secret_number, \".\\n\")\n",
    "}\n",
    "\n",
    "\n"
   ]
  },
  {
   "cell_type": "code",
   "execution_count": 14,
   "id": "a5f5cc6b-3c45-4126-aa91-c4836a381c09",
   "metadata": {},
   "outputs": [
    {
     "name": "stdout",
     "output_type": "stream",
     "text": [
      "[1] \"There are 5 even numbers between 1 and 10.\"\n"
     ]
    }
   ],
   "source": [
    "# Initialize count variable\n",
    "count <- 0\n",
    "\n",
    "# Loop from 1 to 10\n",
    "for (i in 1:10) {\n",
    "  # Check if even (divisible by 2)\n",
    "  if (i %% 2 == 0) {\n",
    "    # Increment count if even\n",
    "    count <- count + 1\n",
    "  }\n",
    "}\n",
    "\n",
    "# Print final count\n",
    "print(paste(\"There are\", count, \"even numbers between 1 and 10.\"))"
   ]
  },
  {
   "cell_type": "code",
   "execution_count": 15,
   "id": "466f06e3-0394-4390-8b5f-f174d8b2577e",
   "metadata": {},
   "outputs": [
    {
     "name": "stdin",
     "output_type": "stream",
     "text": [
      "Guess a number between 1 and 100:  123\n",
      "Guess a number between 1 and 100:  150\n",
      "Guess a number between 1 and 100:  34\n",
      "Guess a number between 1 and 100:  5\n",
      "Guess a number between 1 and 100:  4\n",
      "Guess a number between 1 and 100:  3\n",
      "Guess a number between 1 and 100:  3\n",
      "Guess a number between 1 and 100:  3\n",
      "Guess a number between 1 and 100:  2\n"
     ]
    },
    {
     "name": "stdout",
     "output_type": "stream",
     "text": [
      "Invalid guess. Please enter a number between 1 and 100.\n",
      "Invalid guess. Please enter a number between 1 and 100.\n",
      "Your guess is too low. Try again.\n",
      "You have 6 attempts remaining.\n",
      "Your guess is too low. Try again.\n",
      "You have 5 attempts remaining.\n",
      "Your guess is too low. Try again.\n",
      "You have 4 attempts remaining.\n",
      "Your guess is too low. Try again.\n",
      "You have 3 attempts remaining.\n",
      "Your guess is too low. Try again.\n",
      "You have 2 attempts remaining.\n",
      "Your guess is too low. Try again.\n",
      "You have 1 attempts remaining.\n",
      "Your guess is too low. Try again.\n",
      "You ran out of attempts. The number was  53 .\n"
     ]
    }
   ],
   "source": [
    "# Generate secret number\n",
    "secret_number <- sample(1:100, 1)\n",
    "\n",
    "# Set maximum attempts\n",
    "max_attempts <- 7\n",
    "\n",
    "# Initialize attempts\n",
    "attempts <- 0\n",
    "\n",
    "# Guessing loop\n",
    "while (attempts < max_attempts) {\n",
    "  # Prompt for guess\n",
    "  guess <- as.numeric(readline(\"Guess a number between 1 and 100: \"))\n",
    "\n",
    "  # Validate guess\n",
    "  if (is.na(guess) | guess < 1 | guess > 100) {\n",
    "    cat(\"Invalid guess. Please enter a number between 1 and 100.\\n\")\n",
    "    next  # Skip to the next iteration\n",
    "  }\n",
    "\n",
    "  # Compare guess and provide feedback\n",
    "  if (guess == secret_number) {\n",
    "    cat(\"Congratulations! You guessed the number in \", attempts, \" attempts.\\n\")\n",
    "    break  # Exit the loop\n",
    "  } else if (guess < secret_number) {\n",
    "    cat(\"Your guess is too low. Try again.\\n\")\n",
    "  } else {\n",
    "    cat(\"Your guess is too high. Try again.\\n\")\n",
    "  }\n",
    "\n",
    "  # Check for \"hot\" hint\n",
    "  if (abs(guess - secret_number) <= 10) {\n",
    "    cat(\"Hint: You're getting hot!\\n\")\n",
    "  }\n",
    "\n",
    "  # Update remaining attempts\n",
    "  attempts <- attempts + 1\n",
    "  remaining_attempts <- max_attempts - attempts\n",
    "\n",
    "  # Check if attempts are over\n",
    "  if (attempts == max_attempts) {\n",
    "    cat(\"You ran out of attempts. The number was \", secret_number, \".\\n\")\n",
    "    break  # Exit the loop\n",
    "  } else {\n",
    "    cat(paste(\"You have\", remaining_attempts, \"attempts remaining.\\n\"))\n",
    "  }\n",
    "}"
   ]
  },
  {
   "cell_type": "code",
   "execution_count": 16,
   "id": "17cf1135-3321-4ffc-bec8-c90d946c5731",
   "metadata": {},
   "outputs": [
    {
     "name": "stdin",
     "output_type": "stream",
     "text": [
      "Guess a number between 1 and 100:  4\n",
      "Guess a number between 1 and 100:  4\n",
      "Guess a number between 1 and 100:  5\n",
      "Guess a number between 1 and 100:  7\n",
      "Guess a number between 1 and 100:  9\n",
      "Guess a number between 1 and 100:  12\n",
      "Guess a number between 1 and 100:  56\n"
     ]
    },
    {
     "name": "stdout",
     "output_type": "stream",
     "text": [
      "Your guess is too low. Try again.\n",
      "You have 6 attempts remaining.\n",
      "Your guess is too low. Try again.\n",
      "You have 5 attempts remaining.\n",
      "Your guess is too low. Try again.\n",
      "You have 4 attempts remaining.\n",
      "Your guess is too low. Try again.\n",
      "You have 3 attempts remaining.\n",
      "Your guess is too low. Try again.\n",
      "You have 2 attempts remaining.\n",
      "Your guess is too low. Try again.\n",
      "You have 1 attempts remaining.\n",
      "Your guess is too low. Try again.\n",
      "Hint: You're getting hot!\n",
      "You ran out of attempts. The number was  63 .\n"
     ]
    }
   ],
   "source": [
    "# Generate secret number (between 1 and 100)\n",
    "secret_number <- sample(1:100, 1)\n",
    "\n",
    "# Set maximum number of attempts\n",
    "max_attempts <- 7\n",
    "\n",
    "# Initialize attempts\n",
    "attempts <- 0\n",
    "\n",
    "# Guessing loop\n",
    "while (attempts < max_attempts) {\n",
    "  # Prompt for guess\n",
    "  guess <- as.numeric(readline(\"Guess a number between 1 and 100: \"))\n",
    "\n",
    "  # Validate guess (within 1-100 range, not NA)\n",
    "  if (is.na(guess) | guess < 1 | guess > 100) {\n",
    "    cat(\"Invalid guess. Please enter a number between 1 and 100.\\n\")\n",
    "    next  # Skip to the next iteration\n",
    "  }\n",
    "\n",
    "  # Compare guess and provide feedback\n",
    "  if (guess == secret_number) {\n",
    "    cat(\"Congratulations! You guessed the number in \", attempts, \" attempts.\\n\")\n",
    "    break  # Exit the loop\n",
    "  } else if (guess < secret_number) {\n",
    "    cat(\"Your guess is too low. Try again.\\n\")\n",
    "  } else {\n",
    "    cat(\"Your guess is too high. Try again.\\n\")\n",
    "  }\n",
    "\n",
    "  # Check for \"hot\" hint (within 10 of the secret number)\n",
    "  if (abs(guess - secret_number) <= 10) {\n",
    "    cat(\"Hint: You're getting hot!\\n\")\n",
    "  }\n",
    "\n",
    "  # Update remaining attempts\n",
    "  attempts <- attempts + 1\n",
    "  remaining_attempts <- max_attempts - attempts\n",
    "\n",
    "  # Check if attempts are over\n",
    "  if (attempts == max_attempts) {\n",
    "    cat(\"You ran out of attempts. The number was \", secret_number, \".\\n\")\n",
    "    break  # Exit the loop\n",
    "  } else {\n",
    "    cat(paste(\"You have\", remaining_attempts, \"attempts remaining.\\n\"))\n",
    "  }\n",
    "}"
   ]
  },
  {
   "cell_type": "code",
   "execution_count": 17,
   "id": "2c812b6a-715f-4727-be7e-e68498da1a1d",
   "metadata": {},
   "outputs": [
    {
     "name": "stdout",
     "output_type": "stream",
     "text": [
      "[1] \"There are 5 even numbers between 1 and 10.\"\n"
     ]
    }
   ],
   "source": [
    "# Initialize count variable to store even number count\n",
    "count <- 0\n",
    "\n",
    "# Loop from 1 to 10\n",
    "for (i in 1:10) {\n",
    "  # Check if current number (i) is even (divisible by 2)\n",
    "  if (i %% 2 == 0) {\n",
    "    # Increment count if even\n",
    "    count <- count + 1\n",
    "  }\n",
    "}\n",
    "\n",
    "# Print final count\n",
    "print(paste(\"There are\", count, \"even numbers between 1 and 10.\"))"
   ]
  },
  {
   "cell_type": "code",
   "execution_count": 18,
   "id": "7d4990a1-102b-4364-bcde-9a6724f4d6ef",
   "metadata": {},
   "outputs": [
    {
     "name": "stdout",
     "output_type": "stream",
     "text": [
      "[1] \"red apple\"\n",
      "[1] \"red banana\"\n",
      "[1] \"red cherry\"\n",
      "[1] \"big apple\"\n",
      "[1] \"big banana\"\n",
      "[1] \"big cherry\"\n",
      "[1] \"tasty apple\"\n",
      "[1] \"tasty banana\"\n",
      "[1] \"tasty cherry\"\n"
     ]
    }
   ],
   "source": [
    "# Create two lists: \"adj\" and \"fruits\"\n",
    "adj <- list(\"red\", \"big\", \"tasty\")\n",
    "fruits <- list(\"apple\", \"banana\", \"cherry\")\n",
    "\n",
    "# Nested loops to combine each adjective with each fruit\n",
    "for (x in adj) {\n",
    "  for (y in fruits) {\n",
    "    # Concatenate the adjective and fruit, then print the result\n",
    "    print(paste(x, y))\n",
    "  }\n",
    "}"
   ]
  },
  {
   "cell_type": "code",
   "execution_count": 19,
   "id": "317c8660-3612-4fa8-853b-45715f8ce1e1",
   "metadata": {},
   "outputs": [
    {
     "name": "stdout",
     "output_type": "stream",
     "text": [
      "[1] \"The dice number is 1 Not Yahtzee\"\n",
      "[1] \"The dice number is 2 Not Yahtzee\"\n",
      "[1] \"The dice number is 3 Not Yahtzee\"\n",
      "[1] \"The dice number is 4 Not Yahtzee\"\n",
      "[1] \"The dice number is 5 Not Yahtzee\"\n",
      "[1] \"The dice number is 6 Yahtzee!\"\n"
     ]
    }
   ],
   "source": [
    "# Create a vector called \"dice\" containing the numbers 1 to 6\n",
    "dice <- 1:6\n",
    "\n",
    "# Loop through each element in the \"dice\" vector\n",
    "for(x in dice) {\n",
    "  # Check if the current value of \"x\" is equal to 6\n",
    "  if (x == 6) {\n",
    "    # If it is 6, print a message indicating \"Yahtzee!\"\n",
    "    print(paste(\"The dice number is\", x, \"Yahtzee!\"))\n",
    "  } else {\n",
    "    # Otherwise, print a message indicating \"Not Yahtzee\"\n",
    "    print(paste(\"The dice number is\", x, \"Not Yahtzee\"))\n",
    "  }\n",
    "}\n"
   ]
  },
  {
   "cell_type": "code",
   "execution_count": null,
   "id": "963f1a87-724c-4e1f-977f-5238bd152a53",
   "metadata": {},
   "outputs": [],
   "source": []
  }
 ],
 "metadata": {
  "kernelspec": {
   "display_name": "R",
   "language": "R",
   "name": "ir"
  },
  "language_info": {
   "codemirror_mode": "r",
   "file_extension": ".r",
   "mimetype": "text/x-r-source",
   "name": "R",
   "pygments_lexer": "r",
   "version": "4.4.0"
  }
 },
 "nbformat": 4,
 "nbformat_minor": 5
}
