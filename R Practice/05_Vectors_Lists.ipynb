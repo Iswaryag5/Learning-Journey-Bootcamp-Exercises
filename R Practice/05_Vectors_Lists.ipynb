{
 "cells": [
  {
   "cell_type": "code",
   "execution_count": 1,
   "id": "84812037-d133-436c-b543-f9f17cb976d7",
   "metadata": {},
   "outputs": [
    {
     "data": {
      "text/html": [
       "<style>\n",
       ".list-inline {list-style: none; margin:0; padding: 0}\n",
       ".list-inline>li {display: inline-block}\n",
       ".list-inline>li:not(:last-child)::after {content: \"\\00b7\"; padding: 0 .5ex}\n",
       "</style>\n",
       "<ol class=list-inline><li>'banana'</li><li>'apple'</li><li>'orange'</li></ol>\n"
      ],
      "text/latex": [
       "\\begin{enumerate*}\n",
       "\\item 'banana'\n",
       "\\item 'apple'\n",
       "\\item 'orange'\n",
       "\\end{enumerate*}\n"
      ],
      "text/markdown": [
       "1. 'banana'\n",
       "2. 'apple'\n",
       "3. 'orange'\n",
       "\n",
       "\n"
      ],
      "text/plain": [
       "[1] \"banana\" \"apple\"  \"orange\""
      ]
     },
     "metadata": {},
     "output_type": "display_data"
    }
   ],
   "source": [
    "# Vector of strings\n",
    "fruits <- c(\"banana\", \"apple\", \"orange\")\n",
    "\n",
    "# Print fruits\n",
    "fruits"
   ]
  },
  {
   "cell_type": "code",
   "execution_count": 2,
   "id": "6dd51042-ed5b-4c55-b9b7-bb15056eb5ca",
   "metadata": {},
   "outputs": [
    {
     "data": {
      "text/html": [
       "<style>\n",
       ".list-inline {list-style: none; margin:0; padding: 0}\n",
       ".list-inline>li {display: inline-block}\n",
       ".list-inline>li:not(:last-child)::after {content: \"\\00b7\"; padding: 0 .5ex}\n",
       "</style>\n",
       "<ol class=list-inline><li>1</li><li>2</li><li>3</li><li>4</li><li>5</li><li>6</li><li>7</li><li>8</li><li>9</li><li>10</li></ol>\n"
      ],
      "text/latex": [
       "\\begin{enumerate*}\n",
       "\\item 1\n",
       "\\item 2\n",
       "\\item 3\n",
       "\\item 4\n",
       "\\item 5\n",
       "\\item 6\n",
       "\\item 7\n",
       "\\item 8\n",
       "\\item 9\n",
       "\\item 10\n",
       "\\end{enumerate*}\n"
      ],
      "text/markdown": [
       "1. 1\n",
       "2. 2\n",
       "3. 3\n",
       "4. 4\n",
       "5. 5\n",
       "6. 6\n",
       "7. 7\n",
       "8. 8\n",
       "9. 9\n",
       "10. 10\n",
       "\n",
       "\n"
      ],
      "text/plain": [
       " [1]  1  2  3  4  5  6  7  8  9 10"
      ]
     },
     "metadata": {},
     "output_type": "display_data"
    }
   ],
   "source": [
    "# Vector with numerical values in a sequence\n",
    "numbers <- 1:10\n",
    "\n",
    "numbers"
   ]
  },
  {
   "cell_type": "code",
   "execution_count": 3,
   "id": "e1622599-7877-40b4-98ff-7b52220c4bd8",
   "metadata": {},
   "outputs": [
    {
     "data": {
      "text/html": [
       "<style>\n",
       ".list-inline {list-style: none; margin:0; padding: 0}\n",
       ".list-inline>li {display: inline-block}\n",
       ".list-inline>li:not(:last-child)::after {content: \"\\00b7\"; padding: 0 .5ex}\n",
       "</style>\n",
       "<ol class=list-inline><li>1.5</li><li>2.5</li><li>3.5</li><li>4.5</li><li>5.5</li><li>6.5</li></ol>\n"
      ],
      "text/latex": [
       "\\begin{enumerate*}\n",
       "\\item 1.5\n",
       "\\item 2.5\n",
       "\\item 3.5\n",
       "\\item 4.5\n",
       "\\item 5.5\n",
       "\\item 6.5\n",
       "\\end{enumerate*}\n"
      ],
      "text/markdown": [
       "1. 1.5\n",
       "2. 2.5\n",
       "3. 3.5\n",
       "4. 4.5\n",
       "5. 5.5\n",
       "6. 6.5\n",
       "\n",
       "\n"
      ],
      "text/plain": [
       "[1] 1.5 2.5 3.5 4.5 5.5 6.5"
      ]
     },
     "metadata": {},
     "output_type": "display_data"
    },
    {
     "data": {
      "text/html": [
       "<style>\n",
       ".list-inline {list-style: none; margin:0; padding: 0}\n",
       ".list-inline>li {display: inline-block}\n",
       ".list-inline>li:not(:last-child)::after {content: \"\\00b7\"; padding: 0 .5ex}\n",
       "</style>\n",
       "<ol class=list-inline><li>1.5</li><li>2.5</li><li>3.5</li><li>4.5</li><li>5.5</li></ol>\n"
      ],
      "text/latex": [
       "\\begin{enumerate*}\n",
       "\\item 1.5\n",
       "\\item 2.5\n",
       "\\item 3.5\n",
       "\\item 4.5\n",
       "\\item 5.5\n",
       "\\end{enumerate*}\n"
      ],
      "text/markdown": [
       "1. 1.5\n",
       "2. 2.5\n",
       "3. 3.5\n",
       "4. 4.5\n",
       "5. 5.5\n",
       "\n",
       "\n"
      ],
      "text/plain": [
       "[1] 1.5 2.5 3.5 4.5 5.5"
      ]
     },
     "metadata": {},
     "output_type": "display_data"
    }
   ],
   "source": [
    "# Vector with numerical decimals in a sequence\n",
    "numbers1 <- 1.5:6.5\n",
    "numbers1\n",
    "\n",
    "# Vector with numerical decimals in a sequence where the last element is not used\n",
    "numbers2 <- 1.5:6.3\n",
    "numbers2"
   ]
  },
  {
   "cell_type": "code",
   "execution_count": 4,
   "id": "fb92cb40-8c44-4935-93e6-68f43bdc6efc",
   "metadata": {},
   "outputs": [
    {
     "data": {
      "text/html": [
       "<style>\n",
       ".list-inline {list-style: none; margin:0; padding: 0}\n",
       ".list-inline>li {display: inline-block}\n",
       ".list-inline>li:not(:last-child)::after {content: \"\\00b7\"; padding: 0 .5ex}\n",
       "</style>\n",
       "<ol class=list-inline><li>TRUE</li><li>FALSE</li><li>TRUE</li><li>FALSE</li></ol>\n"
      ],
      "text/latex": [
       "\\begin{enumerate*}\n",
       "\\item TRUE\n",
       "\\item FALSE\n",
       "\\item TRUE\n",
       "\\item FALSE\n",
       "\\end{enumerate*}\n"
      ],
      "text/markdown": [
       "1. TRUE\n",
       "2. FALSE\n",
       "3. TRUE\n",
       "4. FALSE\n",
       "\n",
       "\n"
      ],
      "text/plain": [
       "[1]  TRUE FALSE  TRUE FALSE"
      ]
     },
     "metadata": {},
     "output_type": "display_data"
    }
   ],
   "source": [
    "# Vector of logical values\n",
    "log_values <- c(TRUE, FALSE, TRUE, FALSE)\n",
    "\n",
    "log_values"
   ]
  },
  {
   "cell_type": "code",
   "execution_count": 5,
   "id": "4a7f7aa5-754b-4c46-a58c-280d9fcdf1a5",
   "metadata": {},
   "outputs": [
    {
     "data": {
      "text/html": [
       "3"
      ],
      "text/latex": [
       "3"
      ],
      "text/markdown": [
       "3"
      ],
      "text/plain": [
       "[1] 3"
      ]
     },
     "metadata": {},
     "output_type": "display_data"
    }
   ],
   "source": [
    "fruits <- c(\"banana\", \"apple\", \"orange\")\n",
    "\n",
    "length(fruits)"
   ]
  },
  {
   "cell_type": "code",
   "execution_count": 7,
   "id": "1ba32a13-0208-4227-8f6d-5f570259ca89",
   "metadata": {},
   "outputs": [
    {
     "data": {
      "text/html": [
       "<style>\n",
       ".list-inline {list-style: none; margin:0; padding: 0}\n",
       ".list-inline>li {display: inline-block}\n",
       ".list-inline>li:not(:last-child)::after {content: \"\\00b7\"; padding: 0 .5ex}\n",
       "</style>\n",
       "<ol class=list-inline><li>'apple'</li><li>'banana'</li><li>'lemon'</li><li>'mango'</li><li>'orange'</li></ol>\n"
      ],
      "text/latex": [
       "\\begin{enumerate*}\n",
       "\\item 'apple'\n",
       "\\item 'banana'\n",
       "\\item 'lemon'\n",
       "\\item 'mango'\n",
       "\\item 'orange'\n",
       "\\end{enumerate*}\n"
      ],
      "text/markdown": [
       "1. 'apple'\n",
       "2. 'banana'\n",
       "3. 'lemon'\n",
       "4. 'mango'\n",
       "5. 'orange'\n",
       "\n",
       "\n"
      ],
      "text/plain": [
       "[1] \"apple\"  \"banana\" \"lemon\"  \"mango\"  \"orange\""
      ]
     },
     "metadata": {},
     "output_type": "display_data"
    },
    {
     "data": {
      "text/html": [
       "<style>\n",
       ".list-inline {list-style: none; margin:0; padding: 0}\n",
       ".list-inline>li {display: inline-block}\n",
       ".list-inline>li:not(:last-child)::after {content: \"\\00b7\"; padding: 0 .5ex}\n",
       "</style>\n",
       "<ol class=list-inline><li>2</li><li>3</li><li>5</li><li>7</li><li>13</li><li>20</li></ol>\n"
      ],
      "text/latex": [
       "\\begin{enumerate*}\n",
       "\\item 2\n",
       "\\item 3\n",
       "\\item 5\n",
       "\\item 7\n",
       "\\item 13\n",
       "\\item 20\n",
       "\\end{enumerate*}\n"
      ],
      "text/markdown": [
       "1. 2\n",
       "2. 3\n",
       "3. 5\n",
       "4. 7\n",
       "5. 13\n",
       "6. 20\n",
       "\n",
       "\n"
      ],
      "text/plain": [
       "[1]  2  3  5  7 13 20"
      ]
     },
     "metadata": {},
     "output_type": "display_data"
    }
   ],
   "source": [
    "fruits <- c(\"banana\", \"apple\", \"orange\", \"mango\", \"lemon\")\n",
    "numbers <- c(13, 3, 5, 7, 20, 2)\n",
    "sort(fruits)  # Sort a string\n",
    "sort(numbers) # Sort numbers"
   ]
  },
  {
   "cell_type": "code",
   "execution_count": 9,
   "id": "499b3996-a7b0-4bd5-b962-543bef5aa4f2",
   "metadata": {},
   "outputs": [
    {
     "name": "stdout",
     "output_type": "stream",
     "text": [
      "[1] \"orange\" \"mango\"  \"lemon\"  \"banana\" \"apple\" \n",
      "[1] 20 13  7  5  3  2\n"
     ]
    }
   ],
   "source": [
    "#Using the sort() function with the decreasing argument:\n",
    "fruits <- c(\"banana\", \"apple\", \"orange\", \"mango\", \"lemon\")\n",
    "numbers <- c(13, 3, 5, 7, 20, 2)\n",
    "\n",
    "# Sort fruits in descending order (reverse alphabetical)\n",
    "sorted_fruits <- sort(fruits, decreasing = TRUE)\n",
    "print(sorted_fruits)  # Output: [1] \"orange\" \"mango\" \"lemon\" \"banana\" \"apple\"\n",
    "\n",
    "# Sort numbers in descending order (largest to smallest)\n",
    "sorted_numbers <- sort(numbers, decreasing = TRUE)\n",
    "print(sorted_numbers)  # Output: [1] 20 13 7 5 3 2"
   ]
  },
  {
   "cell_type": "code",
   "execution_count": 10,
   "id": "b942163b-675a-4a52-9e92-1b8db27cd7f8",
   "metadata": {},
   "outputs": [
    {
     "data": {
      "text/html": [
       "'banana'"
      ],
      "text/latex": [
       "'banana'"
      ],
      "text/markdown": [
       "'banana'"
      ],
      "text/plain": [
       "[1] \"banana\""
      ]
     },
     "metadata": {},
     "output_type": "display_data"
    }
   ],
   "source": [
    "fruits <- c(\"banana\", \"apple\", \"orange\")\n",
    "\n",
    "# Access the first item (banana)\n",
    "fruits[1]"
   ]
  },
  {
   "cell_type": "code",
   "execution_count": 11,
   "id": "207a361a-b5ec-432d-8a0e-3b9c8cc72ca1",
   "metadata": {},
   "outputs": [
    {
     "data": {
      "text/html": [
       "<style>\n",
       ".list-inline {list-style: none; margin:0; padding: 0}\n",
       ".list-inline>li {display: inline-block}\n",
       ".list-inline>li:not(:last-child)::after {content: \"\\00b7\"; padding: 0 .5ex}\n",
       "</style>\n",
       "<ol class=list-inline><li>'banana'</li><li>'orange'</li></ol>\n"
      ],
      "text/latex": [
       "\\begin{enumerate*}\n",
       "\\item 'banana'\n",
       "\\item 'orange'\n",
       "\\end{enumerate*}\n"
      ],
      "text/markdown": [
       "1. 'banana'\n",
       "2. 'orange'\n",
       "\n",
       "\n"
      ],
      "text/plain": [
       "[1] \"banana\" \"orange\""
      ]
     },
     "metadata": {},
     "output_type": "display_data"
    }
   ],
   "source": [
    "fruits <- c(\"banana\", \"apple\", \"orange\", \"mango\", \"lemon\")\n",
    "\n",
    "# Access the first and third item (banana and orange)\n",
    "fruits[c(1, 3)]"
   ]
  },
  {
   "cell_type": "code",
   "execution_count": 12,
   "id": "169d6299-6d1a-45cd-b1c1-a4c933de7c57",
   "metadata": {},
   "outputs": [
    {
     "data": {
      "text/html": [
       "<style>\n",
       ".list-inline {list-style: none; margin:0; padding: 0}\n",
       ".list-inline>li {display: inline-block}\n",
       ".list-inline>li:not(:last-child)::after {content: \"\\00b7\"; padding: 0 .5ex}\n",
       "</style>\n",
       "<ol class=list-inline><li>'apple'</li><li>'orange'</li><li>'mango'</li><li>'lemon'</li></ol>\n"
      ],
      "text/latex": [
       "\\begin{enumerate*}\n",
       "\\item 'apple'\n",
       "\\item 'orange'\n",
       "\\item 'mango'\n",
       "\\item 'lemon'\n",
       "\\end{enumerate*}\n"
      ],
      "text/markdown": [
       "1. 'apple'\n",
       "2. 'orange'\n",
       "3. 'mango'\n",
       "4. 'lemon'\n",
       "\n",
       "\n"
      ],
      "text/plain": [
       "[1] \"apple\"  \"orange\" \"mango\"  \"lemon\" "
      ]
     },
     "metadata": {},
     "output_type": "display_data"
    }
   ],
   "source": [
    "fruits <- c(\"banana\", \"apple\", \"orange\", \"mango\", \"lemon\")\n",
    "\n",
    "# Access all items except for the first item\n",
    "fruits[c(-1)]"
   ]
  },
  {
   "cell_type": "code",
   "execution_count": 13,
   "id": "7dbc65be-9721-4fb1-a665-211ff3d29f98",
   "metadata": {},
   "outputs": [
    {
     "data": {
      "text/html": [
       "<style>\n",
       ".list-inline {list-style: none; margin:0; padding: 0}\n",
       ".list-inline>li {display: inline-block}\n",
       ".list-inline>li:not(:last-child)::after {content: \"\\00b7\"; padding: 0 .5ex}\n",
       "</style>\n",
       "<ol class=list-inline><li>'apple'</li><li>'orange'</li><li>'mango'</li><li>'lemon'</li></ol>\n"
      ],
      "text/latex": [
       "\\begin{enumerate*}\n",
       "\\item 'apple'\n",
       "\\item 'orange'\n",
       "\\item 'mango'\n",
       "\\item 'lemon'\n",
       "\\end{enumerate*}\n"
      ],
      "text/markdown": [
       "1. 'apple'\n",
       "2. 'orange'\n",
       "3. 'mango'\n",
       "4. 'lemon'\n",
       "\n",
       "\n"
      ],
      "text/plain": [
       "[1] \"apple\"  \"orange\" \"mango\"  \"lemon\" "
      ]
     },
     "metadata": {},
     "output_type": "display_data"
    }
   ],
   "source": [
    "fruits <- c(\"banana\", \"apple\", \"orange\", \"mango\", \"lemon\")\n",
    "\n",
    "# Access all items except for the first item\n",
    "fruits[c(-1)]"
   ]
  },
  {
   "cell_type": "code",
   "execution_count": 14,
   "id": "046d88bc-4fbc-4fc6-b27d-57c253fe40a2",
   "metadata": {},
   "outputs": [
    {
     "data": {
      "text/html": [
       "<style>\n",
       ".list-inline {list-style: none; margin:0; padding: 0}\n",
       ".list-inline>li {display: inline-block}\n",
       ".list-inline>li:not(:last-child)::after {content: \"\\00b7\"; padding: 0 .5ex}\n",
       "</style>\n",
       "<ol class=list-inline><li>'pear'</li><li>'apple'</li><li>'orange'</li><li>'mango'</li><li>'lemon'</li></ol>\n"
      ],
      "text/latex": [
       "\\begin{enumerate*}\n",
       "\\item 'pear'\n",
       "\\item 'apple'\n",
       "\\item 'orange'\n",
       "\\item 'mango'\n",
       "\\item 'lemon'\n",
       "\\end{enumerate*}\n"
      ],
      "text/markdown": [
       "1. 'pear'\n",
       "2. 'apple'\n",
       "3. 'orange'\n",
       "4. 'mango'\n",
       "5. 'lemon'\n",
       "\n",
       "\n"
      ],
      "text/plain": [
       "[1] \"pear\"   \"apple\"  \"orange\" \"mango\"  \"lemon\" "
      ]
     },
     "metadata": {},
     "output_type": "display_data"
    }
   ],
   "source": [
    "fruits <- c(\"banana\", \"apple\", \"orange\", \"mango\", \"lemon\")\n",
    "\n",
    "# Change \"banana\" to \"pear\"\n",
    "fruits[1] <- \"pear\"\n",
    "\n",
    "# Print fruits\n",
    "fruits"
   ]
  },
  {
   "cell_type": "code",
   "execution_count": 15,
   "id": "6707136e-5220-4f7d-bcee-7addf292bc4a",
   "metadata": {},
   "outputs": [
    {
     "name": "stdout",
     "output_type": "stream",
     "text": [
      "[1] \"mango\"     \"pineapple\" \"orange\"   \n"
     ]
    }
   ],
   "source": [
    "fruits <- c(\"mango\", \"pineapple\", \"orange\")\n",
    "print(fruits)"
   ]
  },
  {
   "cell_type": "code",
   "execution_count": 16,
   "id": "d621834e-e033-40bf-8ec2-7f9082faa328",
   "metadata": {},
   "outputs": [
    {
     "name": "stdout",
     "output_type": "stream",
     "text": [
      "[1] 25 42  7\n"
     ]
    }
   ],
   "source": [
    "numbers <- c(25, 42, 7)\n",
    "print(numbers)"
   ]
  },
  {
   "cell_type": "code",
   "execution_count": 17,
   "id": "70638b60-755a-4b40-89a8-b7ad2a078731",
   "metadata": {},
   "outputs": [
    {
     "name": "stdout",
     "output_type": "stream",
     "text": [
      " [1]  1  2  3  4  5  6  7  8  9 10\n"
     ]
    }
   ],
   "source": [
    "numbers <- 1:10\n",
    "print(numbers)"
   ]
  },
  {
   "cell_type": "code",
   "execution_count": 18,
   "id": "1ba9274c-f682-44f7-82c1-5ed9c3c88c5e",
   "metadata": {},
   "outputs": [
    {
     "name": "stdout",
     "output_type": "stream",
     "text": [
      " [1] 2.5 3.0 3.5 4.0 4.5 5.0 5.5 6.0 6.5 7.0 7.5\n"
     ]
    }
   ],
   "source": [
    "numbers <- seq(from = 2.5, to = 7.5, by = 0.5)\n",
    "print(numbers)"
   ]
  },
  {
   "cell_type": "code",
   "execution_count": 20,
   "id": "c76b344c-95a9-496b-b87a-c2fba26820ad",
   "metadata": {},
   "outputs": [
    {
     "name": "stdout",
     "output_type": "stream",
     "text": [
      "[1] \"A\" \"B\" \"C\"\n"
     ]
    }
   ],
   "source": [
    "friends <- c(\"Alice\", \"Bob\", \"Charlie\")\n",
    "first_letters <- substr(friends, start = 1, stop = 1)\n",
    "print(first_letters)\n"
   ]
  },
  {
   "cell_type": "code",
   "execution_count": 21,
   "id": "16371ec6-5968-4a80-b22c-870531791d79",
   "metadata": {},
   "outputs": [
    {
     "name": "stdout",
     "output_type": "stream",
     "text": [
      "[1] 345\n"
     ]
    }
   ],
   "source": [
    "scores <- c(85, 92, 78, 90)\n",
    "total_score <- sum(scores)\n",
    "print(total_score)"
   ]
  },
  {
   "cell_type": "code",
   "execution_count": 22,
   "id": "b5ac91cd-95af-4521-9fb1-b244ffb2fa85",
   "metadata": {},
   "outputs": [
    {
     "name": "stdout",
     "output_type": "stream",
     "text": [
      "[1] 4\n"
     ]
    }
   ],
   "source": [
    "ratings <- c(4, 5, 3, 4)\n",
    "average_rating <- mean(ratings)\n",
    "print(average_rating)"
   ]
  },
  {
   "cell_type": "code",
   "execution_count": 23,
   "id": "e19fbb4b-4908-4261-be77-3586d5e751cd",
   "metadata": {},
   "outputs": [
    {
     "name": "stdout",
     "output_type": "stream",
     "text": [
      "[1] 38 40 42\n"
     ]
    }
   ],
   "source": [
    "shoe_sizes <- c(38, 40, 37, 42)\n",
    "even_sizes <- shoe_sizes[shoe_sizes %% 2 == 0]\n",
    "print(even_sizes)"
   ]
  },
  {
   "cell_type": "code",
   "execution_count": 24,
   "id": "065b6c1e-8c3b-4eac-8f6b-a6ed0b947d93",
   "metadata": {},
   "outputs": [
    {
     "name": "stdout",
     "output_type": "stream",
     "text": [
      "[1] \"pasta\"   \"pizza\"   \"sushi\"   \"burgers\" \"fries\"   \"tacos\"  \n"
     ]
    }
   ],
   "source": [
    "your_foods <- c(\"pasta\", \"pizza\", \"sushi\")\n",
    "friends_foods <- c(\"burgers\", \"fries\", \"tacos\")\n",
    "all_foods <- c(your_foods, friends_foods)\n",
    "print(all_foods)"
   ]
  },
  {
   "cell_type": "code",
   "execution_count": 25,
   "id": "fff5ce95-f51c-4a6c-bd0b-79a07f86096e",
   "metadata": {},
   "outputs": [
    {
     "name": "stdout",
     "output_type": "stream",
     "text": [
      " [1] 1995 1997 1999 2001 2003 2005 2007 2009 2011 2013 2015 2017 2019 2021 2023\n"
     ]
    }
   ],
   "source": [
    "birth_year <- 1995\n",
    "current_year <- 2024\n",
    "years <- seq(from = birth_year, to = current_year, by = 2)\n",
    "print(years)"
   ]
  },
  {
   "cell_type": "code",
   "execution_count": 26,
   "id": "e9d40ae9-011c-45b6-af2e-58d57972088f",
   "metadata": {},
   "outputs": [
    {
     "data": {
      "text/html": [
       "<ol>\n",
       "\t<li>'apple'</li>\n",
       "</ol>\n"
      ],
      "text/latex": [
       "\\begin{enumerate}\n",
       "\\item 'apple'\n",
       "\\end{enumerate}\n"
      ],
      "text/markdown": [
       "1. 'apple'\n",
       "\n",
       "\n"
      ],
      "text/plain": [
       "[[1]]\n",
       "[1] \"apple\"\n"
      ]
     },
     "metadata": {},
     "output_type": "display_data"
    }
   ],
   "source": [
    "thislist <- list(\"apple\", \"banana\", \"cherry\")\n",
    "\n",
    "thislist[1]"
   ]
  },
  {
   "cell_type": "code",
   "execution_count": 27,
   "id": "80015b6b-9622-4c89-9c58-7e81ae6703d1",
   "metadata": {},
   "outputs": [
    {
     "name": "stdout",
     "output_type": "stream",
     "text": [
      "[1] \"apple\"\n",
      "[1] \"banana\"\n",
      "[1] \"cherry\"\n"
     ]
    }
   ],
   "source": [
    "thislist <- list(\"apple\", \"banana\", \"cherry\")\n",
    "\n",
    "for (x in thislist) {\n",
    "  print(x)\n",
    "}"
   ]
  },
  {
   "cell_type": "code",
   "execution_count": 28,
   "id": "a55022a4-9769-4cb6-9c7d-2f71ec693355",
   "metadata": {},
   "outputs": [
    {
     "name": "stdout",
     "output_type": "stream",
     "text": [
      "Reading  Sports  Movies \n",
      "   TRUE   FALSE    TRUE \n"
     ]
    }
   ],
   "source": [
    "activities <- c(TRUE, FALSE, TRUE)\n",
    "names(activities) <- c(\"Reading\", \"Sports\", \"Movies\")\n",
    "print(activities)"
   ]
  },
  {
   "cell_type": "code",
   "execution_count": 29,
   "id": "b1611c11-1af8-4992-8b20-5af573ad7cfa",
   "metadata": {},
   "outputs": [
    {
     "name": "stdout",
     "output_type": "stream",
     "text": [
      "[1] 3\n"
     ]
    }
   ],
   "source": [
    "names_list <- c(\"Alice\", \"Bob\", \"Charlie\")\n",
    "list_length <- length(names_list)\n",
    "print(list_length)"
   ]
  },
  {
   "cell_type": "code",
   "execution_count": 30,
   "id": "d714cb40-9887-4b5e-be06-a65eee6995f1",
   "metadata": {},
   "outputs": [
    {
     "name": "stdout",
     "output_type": "stream",
     "text": [
      "[1] \"music\"\n"
     ]
    }
   ],
   "source": [
    "hobbies <- c(\"painting\", \"music\", \"dancing\")\n",
    "second_hobby <- hobbies[2]\n",
    "print(second_hobby)"
   ]
  },
  {
   "cell_type": "code",
   "execution_count": 31,
   "id": "b6d3af1b-17db-4236-b5d4-82b2563d696e",
   "metadata": {},
   "outputs": [
    {
     "name": "stdout",
     "output_type": "stream",
     "text": [
      "[1] \"music\"\n"
     ]
    }
   ],
   "source": [
    "hobbies <- c(\"painting\", \"music\", \"dancing\")\n",
    "second_hobby <- hobbies[2]\n",
    "print(second_hobby)"
   ]
  },
  {
   "cell_type": "code",
   "execution_count": 32,
   "id": "f1ff2a65-c829-479b-a3f9-ad2b7724beb6",
   "metadata": {},
   "outputs": [
    {
     "name": "stdout",
     "output_type": "stream",
     "text": [
      " [1] 1995 1997 1999 2001 2003 2005 2007 2009 2011 2013 2015 2017 2019 2021 2023\n"
     ]
    }
   ],
   "source": [
    "birth_year <- 1995\n",
    "current_year <- 2024\n",
    "years <- seq(from = birth_year, to = current_year, by = 2)\n",
    "print(years)"
   ]
  },
  {
   "cell_type": "code",
   "execution_count": 33,
   "id": "ac157ca9-4f94-4369-8fcf-10bbcca0c575",
   "metadata": {},
   "outputs": [
    {
     "name": "stderr",
     "output_type": "stream",
     "text": [
      "Warning message in file(file, \"rt\"):\n",
      "\"cannot open file 'example_dataset.csv': No such file or directory\"\n"
     ]
    },
    {
     "ename": "ERROR",
     "evalue": "Error in file(file, \"rt\"): cannot open the connection\n",
     "output_type": "error",
     "traceback": [
      "Error in file(file, \"rt\"): cannot open the connection\nTraceback:\n",
      "1. read.csv(\"example_dataset.csv\")",
      "2. read.table(file = file, header = header, sep = sep, quote = quote, \n .     dec = dec, fill = fill, comment.char = comment.char, ...)",
      "3. file(file, \"rt\")"
     ]
    }
   ],
   "source": [
    "# Load the dataset\n",
    "dataset <- read.csv(\"example_dataset.csv\")\n",
    "\n",
    "# Explore the data:\n",
    "str(dataset)  # View data structure\n",
    "head(dataset)  # View first few rows\n",
    "summary(dataset)  # Get summary statistics\n",
    "\n",
    "# Clean and preprocess if needed (e.g., handle missing values)\n",
    "\n",
    "# Example analysis: Finding the average and most frequent values in a column\n",
    "average_value <- mean(dataset$column_name)\n",
    "most_frequent_value <- table(dataset$column_name)[which.max(table(dataset$column_name))]\n",
    "\n",
    "# Create a visualization (e.g., histogram)\n",
    "library(ggplot2)\n",
    "ggplot(dataset, aes(x = column_name)) + geom_histogram()\n",
    "\n",
    "# Continue based on your specific questions and desired analysis"
   ]
  },
  {
   "cell_type": "code",
   "execution_count": null,
   "id": "907cf42c-280d-4546-8ce7-061742ad7e99",
   "metadata": {},
   "outputs": [],
   "source": []
  }
 ],
 "metadata": {
  "kernelspec": {
   "display_name": "R",
   "language": "R",
   "name": "ir"
  },
  "language_info": {
   "codemirror_mode": "r",
   "file_extension": ".r",
   "mimetype": "text/x-r-source",
   "name": "R",
   "pygments_lexer": "r",
   "version": "4.4.0"
  }
 },
 "nbformat": 4,
 "nbformat_minor": 5
}
