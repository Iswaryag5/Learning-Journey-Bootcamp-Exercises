{
 "cells": [
  {
   "cell_type": "code",
   "execution_count": 14,
   "id": "de547c5d-06ac-4646-ab92-16f1aece7746",
   "metadata": {},
   "outputs": [
    {
     "data": {
      "text/html": [
       "'iswarya'"
      ],
      "text/latex": [
       "'iswarya'"
      ],
      "text/markdown": [
       "'iswarya'"
      ],
      "text/plain": [
       "[1] \"iswarya\""
      ]
     },
     "metadata": {},
     "output_type": "display_data"
    },
    {
     "data": {
      "text/html": [
       "30"
      ],
      "text/latex": [
       "30"
      ],
      "text/markdown": [
       "30"
      ],
      "text/plain": [
       "[1] 30"
      ]
     },
     "metadata": {},
     "output_type": "display_data"
    }
   ],
   "source": [
    "name <- \"iswarya\"\n",
    "age <- 30\n",
    "\n",
    "name   # output \"John\"\n",
    "age    # output 40"
   ]
  },
  {
   "cell_type": "code",
   "execution_count": 12,
   "id": "aca3f1e0-c21a-418c-8e7a-b992766f4f73",
   "metadata": {},
   "outputs": [
    {
     "data": {
      "text/html": [
       "'iswarya g'"
      ],
      "text/latex": [
       "'iswarya g'"
      ],
      "text/markdown": [
       "'iswarya g'"
      ],
      "text/plain": [
       "[1] \"iswarya g\""
      ]
     },
     "metadata": {},
     "output_type": "display_data"
    }
   ],
   "source": [
    "#variable declaration\n",
    "name <- \"iswarya g\"\n",
    "\n",
    "name # auto-print the value of the name variable"
   ]
  },
  {
   "cell_type": "code",
   "execution_count": 13,
   "id": "d6f9f5e6-173e-496f-8837-309b768e5562",
   "metadata": {},
   "outputs": [
    {
     "name": "stdout",
     "output_type": "stream",
     "text": [
      "[1] \"iswarya g\"\n"
     ]
    }
   ],
   "source": [
    "name <- \"iswarya g\"\n",
    "\n",
    "print(name) # print the value of the name variable"
   ]
  },
  {
   "cell_type": "code",
   "execution_count": 15,
   "id": "ca185be6-b44b-4d80-a582-ced54edc2683",
   "metadata": {},
   "outputs": [
    {
     "name": "stdout",
     "output_type": "stream",
     "text": [
      "[1] 1\n",
      "[1] 2\n",
      "[1] 3\n",
      "[1] 4\n",
      "[1] 5\n",
      "[1] 6\n",
      "[1] 7\n",
      "[1] 8\n",
      "[1] 9\n",
      "[1] 10\n"
     ]
    }
   ],
   "source": [
    "for (x in 1:10) {\n",
    "  print(x)\n",
    "}"
   ]
  },
  {
   "cell_type": "code",
   "execution_count": 16,
   "id": "c53e366b-99b8-45af-ab65-23d37b42526e",
   "metadata": {},
   "outputs": [
    {
     "data": {
      "text/html": [
       "'R is awesome'"
      ],
      "text/latex": [
       "'R is awesome'"
      ],
      "text/markdown": [
       "'R is awesome'"
      ],
      "text/plain": [
       "[1] \"R is awesome\""
      ]
     },
     "metadata": {},
     "output_type": "display_data"
    }
   ],
   "source": [
    "text <- \"awesome\"\n",
    "\n",
    "paste(\"R is\", text)"
   ]
  },
  {
   "cell_type": "code",
   "execution_count": 17,
   "id": "e97e3805-8ddb-4b38-a4c6-36f18b34ea4b",
   "metadata": {},
   "outputs": [
    {
     "data": {
      "text/html": [
       "15"
      ],
      "text/latex": [
       "15"
      ],
      "text/markdown": [
       "15"
      ],
      "text/plain": [
       "[1] 15"
      ]
     },
     "metadata": {},
     "output_type": "display_data"
    }
   ],
   "source": [
    "num1 <- 5\n",
    "num2 <- 10\n",
    "\n",
    "num1 + num2"
   ]
  },
  {
   "cell_type": "code",
   "execution_count": 18,
   "id": "b247696c-3cd7-469e-a0ca-6837a9f48035",
   "metadata": {},
   "outputs": [
    {
     "ename": "ERROR",
     "evalue": "Error in str1 + str2: non-numeric argument to binary operator\n",
     "output_type": "error",
     "traceback": [
      "Error in str1 + str2: non-numeric argument to binary operator\nTraceback:\n"
     ]
    }
   ],
   "source": [
    "#strings can not be added using + sign\n",
    "str1 <- \"hello\"\n",
    "str2 <- \"bye\"\n",
    "\n",
    "str1 + str2"
   ]
  },
  {
   "cell_type": "code",
   "execution_count": 19,
   "id": "412a6ece-9906-4d67-8ae6-edb325976339",
   "metadata": {},
   "outputs": [
    {
     "ename": "ERROR",
     "evalue": "Error in num + text: non-numeric argument to binary operator\n",
     "output_type": "error",
     "traceback": [
      "Error in num + text: non-numeric argument to binary operator\nTraceback:\n"
     ]
    }
   ],
   "source": [
    "num <- 5\n",
    "text <- \"Some text\"\n",
    "\n",
    "num + text"
   ]
  },
  {
   "cell_type": "code",
   "execution_count": 22,
   "id": "b80983b9-4568-444d-92e2-b507c15f961e",
   "metadata": {},
   "outputs": [
    {
     "data": {
      "text/html": [
       "'Orange'"
      ],
      "text/latex": [
       "'Orange'"
      ],
      "text/markdown": [
       "'Orange'"
      ],
      "text/plain": [
       "[1] \"Orange\""
      ]
     },
     "metadata": {},
     "output_type": "display_data"
    },
    {
     "data": {
      "text/html": [
       "'Orange'"
      ],
      "text/latex": [
       "'Orange'"
      ],
      "text/markdown": [
       "'Orange'"
      ],
      "text/plain": [
       "[1] \"Orange\""
      ]
     },
     "metadata": {},
     "output_type": "display_data"
    },
    {
     "data": {
      "text/html": [
       "'Orange'"
      ],
      "text/latex": [
       "'Orange'"
      ],
      "text/markdown": [
       "'Orange'"
      ],
      "text/plain": [
       "[1] \"Orange\""
      ]
     },
     "metadata": {},
     "output_type": "display_data"
    }
   ],
   "source": [
    "# Assign the same value to multiple variables in one line\n",
    "var1 <- var2 <- var3 <- \"Orange\"\n",
    "\n",
    "# Print variable values\n",
    "var1\n",
    "var2\n",
    "var3"
   ]
  },
  {
   "cell_type": "code",
   "execution_count": 24,
   "id": "ab6fe9f0-6b7c-4756-a178-cb4cd8f878f9",
   "metadata": {},
   "outputs": [
    {
     "data": {
      "text/html": [
       "30"
      ],
      "text/latex": [
       "30"
      ],
      "text/markdown": [
       "30"
      ],
      "text/plain": [
       "[1] 30"
      ]
     },
     "metadata": {},
     "output_type": "display_data"
    },
    {
     "data": {
      "text/html": [
       "'Sally'"
      ],
      "text/latex": [
       "'Sally'"
      ],
      "text/markdown": [
       "'Sally'"
      ],
      "text/plain": [
       "[1] \"Sally\""
      ]
     },
     "metadata": {},
     "output_type": "display_data"
    }
   ],
   "source": [
    "my_var1 <- 30  # my_var is type of numeric\n",
    "my_var2 <- \"Sally\" # my_var is now of type character (aka string)\n",
    "\n",
    "my_var1 # print my_var\n",
    "my_var2"
   ]
  },
  {
   "cell_type": "code",
   "execution_count": 25,
   "id": "a9cf903e-94c6-403e-9075-b53b57cf4137",
   "metadata": {},
   "outputs": [
    {
     "data": {
      "text/html": [
       "'numeric'"
      ],
      "text/latex": [
       "'numeric'"
      ],
      "text/markdown": [
       "'numeric'"
      ],
      "text/plain": [
       "[1] \"numeric\""
      ]
     },
     "metadata": {},
     "output_type": "display_data"
    },
    {
     "data": {
      "text/html": [
       "'integer'"
      ],
      "text/latex": [
       "'integer'"
      ],
      "text/markdown": [
       "'integer'"
      ],
      "text/plain": [
       "[1] \"integer\""
      ]
     },
     "metadata": {},
     "output_type": "display_data"
    },
    {
     "data": {
      "text/html": [
       "'complex'"
      ],
      "text/latex": [
       "'complex'"
      ],
      "text/markdown": [
       "'complex'"
      ],
      "text/plain": [
       "[1] \"complex\""
      ]
     },
     "metadata": {},
     "output_type": "display_data"
    },
    {
     "data": {
      "text/html": [
       "'character'"
      ],
      "text/latex": [
       "'character'"
      ],
      "text/markdown": [
       "'character'"
      ],
      "text/plain": [
       "[1] \"character\""
      ]
     },
     "metadata": {},
     "output_type": "display_data"
    },
    {
     "data": {
      "text/html": [
       "'logical'"
      ],
      "text/latex": [
       "'logical'"
      ],
      "text/markdown": [
       "'logical'"
      ],
      "text/plain": [
       "[1] \"logical\""
      ]
     },
     "metadata": {},
     "output_type": "display_data"
    }
   ],
   "source": [
    "x <- 10.5  \n",
    "class(x)\n",
    "\n",
    "x <- 1000L  \n",
    "class(x)\n",
    "\n",
    "x <- 9i + 3  \n",
    "class(x)  \n",
    "\n",
    "x <- \"R is exciting\"  \n",
    "class(x)  \n",
    "\n",
    "x <- TRUE  \n",
    "class(x)"
   ]
  },
  {
   "cell_type": "code",
   "execution_count": 27,
   "id": "2e2a9ed9-5137-42f0-9623-9fd459687367",
   "metadata": {},
   "outputs": [
    {
     "name": "stdout",
     "output_type": "stream",
     "text": [
      "[1] \"numeric\"\n"
     ]
    }
   ],
   "source": [
    "# Define a numeric variable\n",
    "x <- 10\n",
    "\n",
    "# Determine the class of the variable\n",
    "class_x <- class(x)\n",
    "\n",
    "# Print the class\n",
    "print(class_x)  # Output will be \"numeric\"\n",
    "\n"
   ]
  },
  {
   "cell_type": "code",
   "execution_count": 30,
   "id": "fa9c3f16-5653-4ae3-a68d-3955a995d351",
   "metadata": {},
   "outputs": [
    {
     "data": {
      "text/html": [
       "'numeric'"
      ],
      "text/latex": [
       "'numeric'"
      ],
      "text/markdown": [
       "'numeric'"
      ],
      "text/plain": [
       "[1] \"numeric\""
      ]
     },
     "metadata": {},
     "output_type": "display_data"
    },
    {
     "data": {
      "text/html": [
       "'integer'"
      ],
      "text/latex": [
       "'integer'"
      ],
      "text/markdown": [
       "'integer'"
      ],
      "text/plain": [
       "[1] \"integer\""
      ]
     },
     "metadata": {},
     "output_type": "display_data"
    }
   ],
   "source": [
    "x <- 10.5   # numeric\n",
    "y <- 10L    # integer (Long)\n",
    "z <- 1i     # complex\n",
    "class(x)\n",
    "class(y)"
   ]
  },
  {
   "cell_type": "code",
   "execution_count": 31,
   "id": "3d117445-871f-4b1c-b8a6-88cb81c1c3f1",
   "metadata": {},
   "outputs": [
    {
     "data": {
      "text/html": [
       "10.5"
      ],
      "text/latex": [
       "10.5"
      ],
      "text/markdown": [
       "10.5"
      ],
      "text/plain": [
       "[1] 10.5"
      ]
     },
     "metadata": {},
     "output_type": "display_data"
    },
    {
     "data": {
      "text/html": [
       "55"
      ],
      "text/latex": [
       "55"
      ],
      "text/markdown": [
       "55"
      ],
      "text/plain": [
       "[1] 55"
      ]
     },
     "metadata": {},
     "output_type": "display_data"
    },
    {
     "data": {
      "text/html": [
       "'numeric'"
      ],
      "text/latex": [
       "'numeric'"
      ],
      "text/markdown": [
       "'numeric'"
      ],
      "text/plain": [
       "[1] \"numeric\""
      ]
     },
     "metadata": {},
     "output_type": "display_data"
    },
    {
     "data": {
      "text/html": [
       "'numeric'"
      ],
      "text/latex": [
       "'numeric'"
      ],
      "text/markdown": [
       "'numeric'"
      ],
      "text/plain": [
       "[1] \"numeric\""
      ]
     },
     "metadata": {},
     "output_type": "display_data"
    }
   ],
   "source": [
    "x <- 10.5\n",
    "y <- 55\n",
    "\n",
    "# Print values of x and y\n",
    "x\n",
    "y\n",
    "\n",
    "# Print the class name of x and y\n",
    "class(x)\n",
    "class(y)"
   ]
  },
  {
   "cell_type": "code",
   "execution_count": 32,
   "id": "9d8b03f6-7fe4-45af-9801-9ba27af807b1",
   "metadata": {},
   "outputs": [
    {
     "data": {
      "text/html": [
       "3+5i"
      ],
      "text/latex": [
       "3+5i"
      ],
      "text/markdown": [
       "3+5i"
      ],
      "text/plain": [
       "[1] 3+5i"
      ]
     },
     "metadata": {},
     "output_type": "display_data"
    },
    {
     "data": {
      "text/html": [
       "0+5i"
      ],
      "text/latex": [
       "0+5i"
      ],
      "text/markdown": [
       "0+5i"
      ],
      "text/plain": [
       "[1] 0+5i"
      ]
     },
     "metadata": {},
     "output_type": "display_data"
    },
    {
     "data": {
      "text/html": [
       "'complex'"
      ],
      "text/latex": [
       "'complex'"
      ],
      "text/markdown": [
       "'complex'"
      ],
      "text/plain": [
       "[1] \"complex\""
      ]
     },
     "metadata": {},
     "output_type": "display_data"
    },
    {
     "data": {
      "text/html": [
       "'complex'"
      ],
      "text/latex": [
       "'complex'"
      ],
      "text/markdown": [
       "'complex'"
      ],
      "text/plain": [
       "[1] \"complex\""
      ]
     },
     "metadata": {},
     "output_type": "display_data"
    }
   ],
   "source": [
    "x <- 3+5i\n",
    "y <- 5i\n",
    "\n",
    "# Print values of x and y\n",
    "x\n",
    "y\n",
    "\n",
    "# Print the class name of x and y\n",
    "class(x)\n",
    "class(y)"
   ]
  },
  {
   "cell_type": "code",
   "execution_count": 33,
   "id": "03414f21-1042-4b14-94e1-9bd9c4b00af0",
   "metadata": {},
   "outputs": [
    {
     "data": {
      "text/html": [
       "1"
      ],
      "text/latex": [
       "1"
      ],
      "text/markdown": [
       "1"
      ],
      "text/plain": [
       "[1] 1"
      ]
     },
     "metadata": {},
     "output_type": "display_data"
    },
    {
     "data": {
      "text/html": [
       "2"
      ],
      "text/latex": [
       "2"
      ],
      "text/markdown": [
       "2"
      ],
      "text/plain": [
       "[1] 2"
      ]
     },
     "metadata": {},
     "output_type": "display_data"
    },
    {
     "data": {
      "text/html": [
       "'numeric'"
      ],
      "text/latex": [
       "'numeric'"
      ],
      "text/markdown": [
       "'numeric'"
      ],
      "text/plain": [
       "[1] \"numeric\""
      ]
     },
     "metadata": {},
     "output_type": "display_data"
    },
    {
     "data": {
      "text/html": [
       "'integer'"
      ],
      "text/latex": [
       "'integer'"
      ],
      "text/markdown": [
       "'integer'"
      ],
      "text/plain": [
       "[1] \"integer\""
      ]
     },
     "metadata": {},
     "output_type": "display_data"
    }
   ],
   "source": [
    "x <- 1L # integer\n",
    "y <- 2 # numeric\n",
    "\n",
    "# convert from integer to numeric:\n",
    "a <- as.numeric(x)\n",
    "\n",
    "# convert from numeric to integer:\n",
    "b <- as.integer(y)\n",
    "\n",
    "# print values of x and y\n",
    "x\n",
    "y\n",
    "\n",
    "# print the class name of a and b\n",
    "class(a)\n",
    "class(b)"
   ]
  },
  {
   "cell_type": "code",
   "execution_count": 34,
   "id": "52f08baf-a5e8-4558-99f4-b15c665f7a75",
   "metadata": {},
   "outputs": [
    {
     "name": "stdout",
     "output_type": "stream",
     "text": [
      "[1] \"Hello, Alice!\"\n",
      "[1] \"Hello, Bob!\"\n",
      "[1] \"Hello, Charlie!\"\n"
     ]
    }
   ],
   "source": [
    "names <- c(\"Alice\", \"Bob\", \"Charlie\")\n",
    "for (name in names) {\n",
    "    print(paste0(\"Hello, \", name, \"!\"))\n",
    "}"
   ]
  },
  {
   "cell_type": "code",
   "execution_count": 36,
   "id": "543bed5e-cd70-4b75-8ef7-9b8a5c9556e9",
   "metadata": {},
   "outputs": [
    {
     "data": {
      "text/html": [
       "'numeric'"
      ],
      "text/latex": [
       "'numeric'"
      ],
      "text/markdown": [
       "'numeric'"
      ],
      "text/plain": [
       "[1] \"numeric\""
      ]
     },
     "metadata": {},
     "output_type": "display_data"
    },
    {
     "data": {
      "text/html": [
       "'integer'"
      ],
      "text/latex": [
       "'integer'"
      ],
      "text/markdown": [
       "'integer'"
      ],
      "text/plain": [
       "[1] \"integer\""
      ]
     },
     "metadata": {},
     "output_type": "display_data"
    },
    {
     "data": {
      "text/html": [
       "'character'"
      ],
      "text/latex": [
       "'character'"
      ],
      "text/markdown": [
       "'character'"
      ],
      "text/plain": [
       "[1] \"character\""
      ]
     },
     "metadata": {},
     "output_type": "display_data"
    },
    {
     "data": {
      "text/html": [
       "'logical'"
      ],
      "text/latex": [
       "'logical'"
      ],
      "text/markdown": [
       "'logical'"
      ],
      "text/plain": [
       "[1] \"logical\""
      ]
     },
     "metadata": {},
     "output_type": "display_data"
    },
    {
     "data": {
      "text/html": [
       "'numeric'"
      ],
      "text/latex": [
       "'numeric'"
      ],
      "text/markdown": [
       "'numeric'"
      ],
      "text/plain": [
       "[1] \"numeric\""
      ]
     },
     "metadata": {},
     "output_type": "display_data"
    },
    {
     "data": {
      "text/html": [
       "'character'"
      ],
      "text/latex": [
       "'character'"
      ],
      "text/markdown": [
       "'character'"
      ],
      "text/plain": [
       "[1] \"character\""
      ]
     },
     "metadata": {},
     "output_type": "display_data"
    },
    {
     "data": {
      "text/html": [
       "'integer'"
      ],
      "text/latex": [
       "'integer'"
      ],
      "text/markdown": [
       "'integer'"
      ],
      "text/plain": [
       "[1] \"integer\""
      ]
     },
     "metadata": {},
     "output_type": "display_data"
    },
    {
     "data": {
      "text/html": [
       "'character'"
      ],
      "text/latex": [
       "'character'"
      ],
      "text/markdown": [
       "'character'"
      ],
      "text/plain": [
       "[1] \"character\""
      ]
     },
     "metadata": {},
     "output_type": "display_data"
    }
   ],
   "source": [
    "# Create variables of different data types\n",
    "age <- 30        # Numeric (whole or decimal numbers)\n",
    "weight <- 70L     # Integer (whole numbers, use L for older R versions)\n",
    "name <- \"Alice\"  # Character (string of text)\n",
    "is_student <- TRUE # Logical (TRUE or FALSE)\n",
    "\n",
    "# Check the data types of each variable\n",
    "class(age)   # Output: \"numeric\"\n",
    "class(weight) # Output: \"integer\" or \"numeric\" depending on your R version\n",
    "class(name)   # Output: \"character\"\n",
    "class(is_student) # Output: \"logical\"\n",
    "\n",
    "# Modify values and observe data type changes\n",
    "age <- 30.5   # Now age is a decimal number\n",
    "class(age)    # Output: \"numeric\"\n",
    "\n",
    "weight <- as.character(weight) # Convert weight to a string\n",
    "class(weight) # Output: \"character\"\n",
    "\n",
    "# Remember, data types can sometimes change!\n",
    "class(70L)            \n",
    "class(as.character(70L)) "
   ]
  },
  {
   "cell_type": "code",
   "execution_count": 38,
   "id": "86895d51-5534-42e5-be6a-a505599628e0",
   "metadata": {},
   "outputs": [
    {
     "name": "stdout",
     "output_type": "stream",
     "text": [
      "[1] 100.5\n",
      "[1] 219.9115\n",
      "[1] 7035\n",
      "[1] 12090.27\n"
     ]
    }
   ],
   "source": [
    "# Perform calculations\n",
    "height_estimate <- as.numeric(age) + as.numeric(weight)  # Estimate height based on age and weight\n",
    "circumference <- 2 * pi * as.numeric(weight) / 2  # Calculate circumference (assuming 2 * pi * radius)\n",
    "\n",
    "# Convert pi to numeric, as calculations usually operate on numeric values\n",
    "pi <- as.numeric(pi)\n",
    "\n",
    "# Print the results\n",
    "print(height_estimate)  # Output: The estimated height\n",
    "print(circumference)   # Output: The calculated circumference\n",
    "\n",
    "# Experiment with different calculations and data!\n",
    "area <- as.numeric(weight) * height_estimate   # Calculate area using estimated height\n",
    "pi_squared <- pi^2                   # Calculate pi squared\n",
    "another_area <- pi_squared * (as.numeric(weight) / 2)^2  # Calculate area using radius and pi\n",
    "print(area)          # Output: The calculated area\n",
    "print(another_area)  # Output: Another calculated area\n"
   ]
  },
  {
   "cell_type": "code",
   "execution_count": 40,
   "id": "d5c9e36f-24f6-4705-9c94-568a871af0a8",
   "metadata": {},
   "outputs": [
    {
     "name": "stdout",
     "output_type": "stream",
     "text": [
      "[1] \"My favorite color is Blue.\"\n",
      "[1] \"My favorite food isPizza!\"\n",
      "[1] \"My favorite color is - Blue - .\"\n",
      "[1] \"I am 30.5 years old.\"\n"
     ]
    }
   ],
   "source": [
    "# Create strings\n",
    "color <- \"Blue\"\n",
    "food <-  \"Pizza\"\n",
    "\n",
    "# Use paste() to combine strings and variables\n",
    "print(paste0(\"My favorite color is \", color, \".\"))  # Output: \"My favorite color is Blue.\"\n",
    "print(paste(\"My favorite food is\", food, \"!\", sep = \"\"))  # Output: \"My favorite food isPizza!\"\n",
    "\n",
    "# Experiment with different separators and formatting\n",
    "print(paste(\"My favorite color is\", color, \".\", sep = \" - \"))  # Output: \"My favorite color is - Blue.\"\n",
    "print(paste(\"I am\", age, \"years old.\"))  # Output: \"I am 30.5 years old.\""
   ]
  },
  {
   "cell_type": "code",
   "execution_count": 42,
   "id": "3512b8eb-7fa2-4f0c-bbd8-e7f7964eac6d",
   "metadata": {},
   "outputs": [
    {
     "name": "stdout",
     "output_type": "stream",
     "text": [
      "[1] \"You are an adult.\"\n",
      "[1] \"Your age is an odd number.\"\n",
      "[1] \"You are likely a tall student.\"\n"
     ]
    }
   ],
   "source": [
    "# Check if age is above 18\n",
    "if (age > 18) {\n",
    "    print(\"You are an adult.\")\n",
    "} else {\n",
    "    print(\"You are not an adult.\")\n",
    "}\n",
    "\n",
    "# Check if age is even and print a message accordingly\n",
    "if (age %% 2 == 0) {\n",
    "    print(\"Your age is an even number.\")\n",
    "} else {\n",
    "    print(\"Your age is an odd number.\")\n",
    "}\n",
    "\n",
    "# Modify conditions to explore different scenarios!\n",
    "if (weight > 60 & is_student) {\n",
    "    print(\"You are likely a tall student.\")\n",
    "} else if (height_estimate > 170) {\n",
    "    print(\"You might be above average height.\")\n",
    "} else {\n",
    "    print(\"You have interesting data, explore further!\")\n",
    "}\n"
   ]
  },
  {
   "cell_type": "code",
   "execution_count": 43,
   "id": "b4f0488e-6840-4b33-b5bd-b675c4f0f220",
   "metadata": {},
   "outputs": [
    {
     "name": "stdout",
     "output_type": "stream",
     "text": [
      "[1] 1\n",
      "[1] 2\n",
      "[1] 3\n",
      "[1] 4\n",
      "[1] 5\n",
      "[1] 6\n",
      "[1] 7\n",
      "[1] 8\n",
      "[1] 9\n",
      "[1] 10\n",
      "[1] \"Hello, Alice!\"\n",
      "[1] \"Hello, Bob!\"\n",
      "[1] \"Hello, Charlie!\"\n",
      "[1] 10\n",
      "[1] 9\n",
      "[1] 8\n",
      "[1] 7\n",
      "[1] 6\n",
      "[1] 5\n",
      "[1] 4\n",
      "[1] 3\n",
      "[1] 2\n",
      "[1] 1\n",
      "[1] 1\n",
      "[1] 3\n",
      "[1] 5\n",
      "[1] 7\n",
      "[1] 9\n"
     ]
    }
   ],
   "source": [
    "# Count from 1 to 10 using a loop\n",
    "for (i in 1:10) {\n",
    "    print(i)\n",
    "}\n",
    "\n",
    "# Iterate over a list of names and print greetings\n",
    "names <- c(\"Alice\", \"Bob\", \"Charlie\")\n",
    "for (name in names) {\n",
    "    print(paste0(\"Hello, \", name, \"!\"))\n",
    "}\n",
    "\n",
    "# Modify loops to change behavior (e.g., count backwards, skip numbers)\n",
    "# Example: count backwards from 10 to 1\n",
    "for (i in 10:1) {\n",
    "    print(i)\n",
    "}\n",
    "\n",
    "# Example: skip even numbers from 1 to 10\n",
    "for (i in 1:10) {\n",
    "    if (i %% 2 != 0) {  # Check if i is odd (not divisible by 2)\n",
    "        print(i)\n",
    "    }\n",
    "}"
   ]
  },
  {
   "cell_type": "code",
   "execution_count": 44,
   "id": "6c6ace94-cd72-4cf9-8ca4-7708466a096c",
   "metadata": {},
   "outputs": [
    {
     "data": {
      "text/html": [
       "'We are the so-called \"Vikings\", from the north.'"
      ],
      "text/latex": [
       "'We are the so-called \"Vikings\", from the north.'"
      ],
      "text/markdown": [
       "'We are the so-called \"Vikings\", from the north.'"
      ],
      "text/plain": [
       "[1] \"We are the so-called \\\"Vikings\\\", from the north.\""
      ]
     },
     "metadata": {},
     "output_type": "display_data"
    },
    {
     "name": "stdout",
     "output_type": "stream",
     "text": [
      "We are the so-called \"Vikings\", from the north."
     ]
    }
   ],
   "source": [
    "str <- \"We are the so-called \\\"Vikings\\\", from the north.\"\n",
    "\n",
    "str\n",
    "cat(str)"
   ]
  },
  {
   "cell_type": "code",
   "execution_count": 45,
   "id": "32f1be65-c69d-461e-8120-d584857e5c80",
   "metadata": {},
   "outputs": [
    {
     "data": {
      "text/html": [
       "TRUE"
      ],
      "text/latex": [
       "TRUE"
      ],
      "text/markdown": [
       "TRUE"
      ],
      "text/plain": [
       "[1] TRUE"
      ]
     },
     "metadata": {},
     "output_type": "display_data"
    },
    {
     "data": {
      "text/html": [
       "FALSE"
      ],
      "text/latex": [
       "FALSE"
      ],
      "text/markdown": [
       "FALSE"
      ],
      "text/plain": [
       "[1] FALSE"
      ]
     },
     "metadata": {},
     "output_type": "display_data"
    },
    {
     "data": {
      "text/html": [
       "FALSE"
      ],
      "text/latex": [
       "FALSE"
      ],
      "text/markdown": [
       "FALSE"
      ],
      "text/plain": [
       "[1] FALSE"
      ]
     },
     "metadata": {},
     "output_type": "display_data"
    }
   ],
   "source": [
    "10 > 9    # TRUE because 10 is greater than 9\n",
    "10 == 9   # FALSE because 10 is not equal to 9\n",
    "10 < 9    # FALSE because 10 is greater than 9"
   ]
  },
  {
   "cell_type": "code",
   "execution_count": 46,
   "id": "b7144257-fbe7-4b62-92a4-ba826684db19",
   "metadata": {},
   "outputs": [
    {
     "name": "stdout",
     "output_type": "stream",
     "text": [
      "[1] \"b is not greater than a\"\n"
     ]
    }
   ],
   "source": [
    "a <- 200\n",
    "b <- 33\n",
    "\n",
    "if (b > a) {\n",
    "  print (\"b is greater than a\")\n",
    "} else {\n",
    "  print(\"b is not greater than a\")\n",
    "}"
   ]
  },
  {
   "cell_type": "code",
   "execution_count": 47,
   "id": "5a3a8b86-33c7-46cd-9f19-374a48c0705c",
   "metadata": {},
   "outputs": [
    {
     "data": {
      "text/html": [
       "8"
      ],
      "text/latex": [
       "8"
      ],
      "text/markdown": [
       "8"
      ],
      "text/plain": [
       "[1] 8"
      ]
     },
     "metadata": {},
     "output_type": "display_data"
    },
    {
     "data": {
      "text/html": [
       "30"
      ],
      "text/latex": [
       "30"
      ],
      "text/markdown": [
       "30"
      ],
      "text/plain": [
       "[1] 30"
      ]
     },
     "metadata": {},
     "output_type": "display_data"
    },
    {
     "data": {
      "text/html": [
       "3"
      ],
      "text/latex": [
       "3"
      ],
      "text/markdown": [
       "3"
      ],
      "text/plain": [
       "[1] 3"
      ]
     },
     "metadata": {},
     "output_type": "display_data"
    },
    {
     "data": {
      "text/html": [
       "20"
      ],
      "text/latex": [
       "20"
      ],
      "text/markdown": [
       "20"
      ],
      "text/plain": [
       "[1] 20"
      ]
     },
     "metadata": {},
     "output_type": "display_data"
    },
    {
     "data": {
      "text/html": [
       "4"
      ],
      "text/latex": [
       "4"
      ],
      "text/markdown": [
       "4"
      ],
      "text/plain": [
       "[1] 4"
      ]
     },
     "metadata": {},
     "output_type": "display_data"
    },
    {
     "data": {
      "text/html": [
       "15"
      ],
      "text/latex": [
       "15"
      ],
      "text/markdown": [
       "15"
      ],
      "text/plain": [
       "[1] 15"
      ]
     },
     "metadata": {},
     "output_type": "display_data"
    },
    {
     "name": "stdout",
     "output_type": "stream",
     "text": [
      "[1] \"Rectangle area:48\"\n"
     ]
    }
   ],
   "source": [
    "# Open RStudio and create a new script.\n",
    "\n",
    "# Line 1: Add two numbers\n",
    "5 + 3  # Output: 8\n",
    "\n",
    "# Line 2: More additions\n",
    "10 + 20  # Output: 30\n",
    "7 - 4    # Output: 3\n",
    "\n",
    "# Line 3: Multiplication and division\n",
    "4 * 5     # Output: 20\n",
    "12 / 3    # Output: 4\n",
    "\n",
    "# Line 4: Combine operations\n",
    "10 / 2 * 3  # Output: 15 (PEMDAS: division before multiplication)\n",
    "\n",
    "# Line 5: Rectangle area\n",
    "width <- 6\n",
    "height <- 8\n",
    "area <- width * height\n",
    "print(paste0(\"Rectangle area:\", area))  # Output: Rectangle area: 48"
   ]
  },
  {
   "cell_type": "code",
   "execution_count": 48,
   "id": "e68d3909-8840-4080-853c-c151af30119b",
   "metadata": {},
   "outputs": [
    {
     "data": {
      "text/html": [
       "15"
      ],
      "text/latex": [
       "15"
      ],
      "text/markdown": [
       "15"
      ],
      "text/plain": [
       "[1] 15"
      ]
     },
     "metadata": {},
     "output_type": "display_data"
    },
    {
     "data": {
      "text/html": [
       "6"
      ],
      "text/latex": [
       "6"
      ],
      "text/markdown": [
       "6"
      ],
      "text/plain": [
       "[1] 6"
      ]
     },
     "metadata": {},
     "output_type": "display_data"
    },
    {
     "data": {
      "text/html": [
       "5"
      ],
      "text/latex": [
       "5"
      ],
      "text/markdown": [
       "5"
      ],
      "text/plain": [
       "[1] 5"
      ]
     },
     "metadata": {},
     "output_type": "display_data"
    },
    {
     "data": {
      "text/html": [
       "8"
      ],
      "text/latex": [
       "8"
      ],
      "text/markdown": [
       "8"
      ],
      "text/plain": [
       "[1] 8"
      ]
     },
     "metadata": {},
     "output_type": "display_data"
    },
    {
     "name": "stdout",
     "output_type": "stream",
     "text": [
      "[1] \"3minutes is180seconds.\"\n"
     ]
    }
   ],
   "source": [
    "# Line 1: Find the largest number\n",
    "max(12, 15, 7)  # Output: 15\n",
    "\n",
    "# Line 2: Find the smallest number\n",
    "min(12, 6, 20)  # Output: 6\n",
    "\n",
    "# Line 3: Square root\n",
    "sqrt(25)  # Output: 5\n",
    "\n",
    "# Line 4: Absolute value\n",
    "abs(-8)   # Output: 8 (positive version)\n",
    "\n",
    "# Line 5: Minutes to seconds\n",
    "minutes <- 3\n",
    "seconds <- 60 * minutes\n",
    "print(paste0(minutes, \"minutes is\", seconds, \"seconds.\"))  # Output: 3 minutes is 180 seconds."
   ]
  },
  {
   "cell_type": "code",
   "execution_count": 49,
   "id": "93ef2300-e159-49e1-b972-c13416b3223e",
   "metadata": {},
   "outputs": [
    {
     "name": "stdout",
     "output_type": "stream",
     "text": [
      "[1] \"Hello!\"\n",
      "[1] \"Have a great day!\"\n"
     ]
    },
    {
     "data": {
      "text/html": [
       "9"
      ],
      "text/latex": [
       "9"
      ],
      "text/markdown": [
       "9"
      ],
      "text/plain": [
       "[1] 9"
      ]
     },
     "metadata": {},
     "output_type": "display_data"
    },
    {
     "data": {
      "text/html": [
       "TRUE"
      ],
      "text/latex": [
       "TRUE"
      ],
      "text/markdown": [
       "TRUE"
      ],
      "text/plain": [
       "[1] TRUE"
      ]
     },
     "metadata": {},
     "output_type": "display_data"
    },
    {
     "data": {
      "text/html": [
       "FALSE"
      ],
      "text/latex": [
       "FALSE"
      ],
      "text/markdown": [
       "FALSE"
      ],
      "text/plain": [
       "[1] FALSE"
      ]
     },
     "metadata": {},
     "output_type": "display_data"
    },
    {
     "name": "stdout",
     "output_type": "stream",
     "text": [
      "[1] \"Have a great day! R learner\"\n",
      "[1] \"apple, orange, banana\"\n"
     ]
    }
   ],
   "source": [
    "# Line 1: Create a string\n",
    "message <- \"Hello!\"\n",
    "print(message)  # Output: Hello!\n",
    "\n",
    "# Line 2: Assign to a variable\n",
    "greeting <- \"Have a great day!\"\n",
    "print(greeting)  # Output: Have a great day!\n",
    "\n",
    "# Line 3: String length\n",
    "name <- \"R learner\"\n",
    "nchar(name)  # Output: 9 (including the space)\n",
    "\n",
    "# Line 4: Check for characters\n",
    "grepl(\"a\", name)  # Output: TRUE\n",
    "grepl(\"z\", name)  # Output: FALSE\n",
    "\n",
    "# Line 5: Combine strings\n",
    "full_message <- paste(greeting, name)\n",
    "print(full_message)  # Output: Have a great day! R learner\n",
    "\n",
    "# Separator example\n",
    "combined_words <- paste(\"apple\", \"orange\", \"banana\", sep = \", \")\n",
    "print(combined_words)  # Output: apple, orange, banana"
   ]
  },
  {
   "cell_type": "code",
   "execution_count": 52,
   "id": "e37e73ff-b6e4-47a4-b26e-22a90e263328",
   "metadata": {},
   "outputs": [
    {
     "name": "stdout",
     "output_type": "stream",
     "text": [
      "[1] \"He said \\\"Hi!\\\"\"\n",
      "[1] \"He said \\\"Hi!\\\"\"\n",
      "[1] \"\\tThis is tabbed.\"\n"
     ]
    }
   ],
   "source": [
    "# Line 1: Invalid string (missing escape character)\n",
    "print(\"He said \\\"Hi!\\\"\")  \n",
    "\n",
    "# Line 2: Fixed string with escape character\n",
    "message <- \"He said \\\"Hi!\\\"\"\n",
    "print(message)  \n",
    "# Line 3: Tab example\n",
    "print(\"\\tThis is tabbed.\")  \n"
   ]
  },
  {
   "cell_type": "code",
   "execution_count": null,
   "id": "dc0e0e12-41a4-43b1-86ed-d02c7e5c4fb8",
   "metadata": {},
   "outputs": [],
   "source": []
  }
 ],
 "metadata": {
  "kernelspec": {
   "display_name": "R",
   "language": "R",
   "name": "ir"
  },
  "language_info": {
   "codemirror_mode": "r",
   "file_extension": ".r",
   "mimetype": "text/x-r-source",
   "name": "R",
   "pygments_lexer": "r",
   "version": "4.4.0"
  }
 },
 "nbformat": 4,
 "nbformat_minor": 5
}
